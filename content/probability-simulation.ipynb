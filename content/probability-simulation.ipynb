{
 "cells": [
  {
   "cell_type": "markdown",
   "metadata": {},
   "source": [
    "Title: Probability Simulation in Python\n",
    "Date: 2019-12-09 08:04\n",
    "Slug: probability-simulation"
   ]
  },
  {
   "cell_type": "markdown",
   "metadata": {},
   "source": [
    "## Probability Simulation in Python"
   ]
  },
  {
   "cell_type": "markdown",
   "metadata": {},
   "source": [
    "This is the code. Still need to write text."
   ]
  },
  {
   "cell_type": "markdown",
   "metadata": {},
   "source": [
    "### Monty Hall\n",
    "\n",
    "https://en.wikipedia.org/wiki/Monty_Hall_problem"
   ]
  },
  {
   "cell_type": "code",
   "execution_count": 1,
   "metadata": {},
   "outputs": [],
   "source": [
    "import random"
   ]
  },
  {
   "cell_type": "code",
   "execution_count": 2,
   "metadata": {},
   "outputs": [
    {
     "name": "stdout",
     "output_type": "stream",
     "text": [
      "Game begins. (The car is behind door 3).\n",
      "Player chooses door 3.\n",
      "Monty opens door 2 to reveal a goat.\n",
      "Player still chooses door 3.\n",
      "Monty opens door 3 to reveal the car.\n",
      "Player wins!\n"
     ]
    }
   ],
   "source": [
    "# game setup\n",
    "NUM_DOORS = 3\n",
    "assert NUM_DOORS > 2, 'not enough doors'\n",
    "random.seed()\n",
    "winning_door = random.randint(1, NUM_DOORS) # randomly select the winning door\n",
    "print(f'Game begins. (The car is behind door {winning_door}).')\n",
    "\n",
    "# player chooses one of the doors\n",
    "player_door = random.randint(1, NUM_DOORS)\n",
    "print(f'Player chooses door {player_door}.')\n",
    "\n",
    "# Monty opens a different door to reveal a goat\n",
    "while(True):\n",
    "    goat_door = random.randint(1, NUM_DOORS)\n",
    "    if(goat_door != winning_door and goat_door != player_door):\n",
    "        break\n",
    "print(f'Monty opens door {goat_door} to reveal a goat.')\n",
    "\n",
    "# player chooses another door, if they want to\n",
    "switch = random.choice([False, True])\n",
    "if(switch):\n",
    "    while(True):\n",
    "        new_door = random.randint(1, NUM_DOORS)\n",
    "        if(new_door != player_door and new_door != goat_door):\n",
    "            break\n",
    "    player_door = new_door\n",
    "    print(f'Player switches to door {player_door}.')\n",
    "else:\n",
    "    print(f'Player still chooses door {player_door}.')\n",
    "\n",
    "# determine the outcome\n",
    "print(f'Monty opens door {winning_door} to reveal the car.')\n",
    "if player_door == winning_door:\n",
    "    print('Player wins!')\n",
    "else:\n",
    "    print('Player loses.')"
   ]
  },
  {
   "cell_type": "code",
   "execution_count": 3,
   "metadata": {},
   "outputs": [],
   "source": [
    "def monty_hall(switch, n=NUM_DOORS):\n",
    "    assert n > 2, 'not enough doors'\n",
    "\n",
    "    # game setup\n",
    "    winning_door = random.randint(1, n) # randomly select the winning door\n",
    "    print(f'Game begins. (The car is behind door {winning_door}).')\n",
    "\n",
    "    # player chooses one of the doors\n",
    "    player_door = random.randint(1, n)\n",
    "    print(f'Player chooses door {player_door}.')\n",
    "\n",
    "    # Monty opens a different door to reveal a goat\n",
    "    while(True):\n",
    "        goat_door = random.randint(1, n)\n",
    "        if(goat_door != winning_door and goat_door != player_door):\n",
    "            break\n",
    "    print(f'Monty opens door {goat_door} to reveal a goat.')\n",
    "\n",
    "    # player chooses another door, if they want to\n",
    "    if(switch):\n",
    "        while(True):\n",
    "            new_door = random.randint(1, n)\n",
    "            if(new_door != player_door and new_door != goat_door):\n",
    "                break\n",
    "        player_door = new_door\n",
    "        print(f'Player switches to door {player_door}.')\n",
    "    else:\n",
    "        print(f'Player still chooses door {player_door}.')\n",
    "\n",
    "    # determine the outcome\n",
    "    print(f'Monty opens door {winning_door} to reveal the car.')\n",
    "    if player_door == winning_door:\n",
    "        print('Player wins!')\n",
    "    else:\n",
    "        print('Player loses.')"
   ]
  },
  {
   "cell_type": "code",
   "execution_count": 4,
   "metadata": {},
   "outputs": [
    {
     "name": "stdout",
     "output_type": "stream",
     "text": [
      "Game begins. (The car is behind door 1).\n",
      "Player chooses door 3.\n",
      "Monty opens door 2 to reveal a goat.\n",
      "Player still chooses door 3.\n",
      "Monty opens door 1 to reveal the car.\n",
      "Player loses.\n"
     ]
    }
   ],
   "source": [
    "monty_hall(random.choice([False, True]))"
   ]
  },
  {
   "cell_type": "code",
   "execution_count": 5,
   "metadata": {},
   "outputs": [],
   "source": [
    "def monty_hall(switch, n=NUM_DOORS):\n",
    "    assert n > 2, 'not enough doors'\n",
    "    winning_door = random.randint(1, n) # randomly select the winning door\n",
    "\n",
    "    # player chooses one of the doors\n",
    "    player_door = random.randint(1, n)\n",
    "\n",
    "    # Monty opens a different door to reveal a goat\n",
    "    while(True):\n",
    "        goat_door = random.randint(1, n)\n",
    "        if(goat_door != winning_door and goat_door != player_door):\n",
    "            break\n",
    "\n",
    "    # player chooses another door, if they want to\n",
    "    if(switch):\n",
    "        while(True):\n",
    "            new_door = random.randint(1, n)\n",
    "            if(new_door != player_door and new_door != goat_door):\n",
    "                break\n",
    "        player_door = new_door\n",
    "\n",
    "    # determine the outcome\n",
    "    return (player_door == winning_door)"
   ]
  },
  {
   "cell_type": "code",
   "execution_count": 6,
   "metadata": {},
   "outputs": [
    {
     "data": {
      "text/plain": [
       "True"
      ]
     },
     "execution_count": 6,
     "metadata": {},
     "output_type": "execute_result"
    }
   ],
   "source": [
    "monty_hall(random.choice([False, True]))"
   ]
  },
  {
   "cell_type": "code",
   "execution_count": 7,
   "metadata": {},
   "outputs": [
    {
     "data": {
      "text/plain": [
       "0.5008"
      ]
     },
     "execution_count": 7,
     "metadata": {},
     "output_type": "execute_result"
    }
   ],
   "source": [
    "N = 10000\n",
    "results = []\n",
    "for _ in range(N):\n",
    "    results.append(monty_hall(random.choice([False, True])))\n",
    "sum(results)/N"
   ]
  },
  {
   "cell_type": "code",
   "execution_count": 8,
   "metadata": {},
   "outputs": [
    {
     "data": {
      "text/plain": [
       "0.3362"
      ]
     },
     "execution_count": 8,
     "metadata": {},
     "output_type": "execute_result"
    }
   ],
   "source": [
    "results = []\n",
    "for _ in range(N):\n",
    "    results.append(monty_hall(False))\n",
    "sum(results)/N"
   ]
  },
  {
   "cell_type": "code",
   "execution_count": 9,
   "metadata": {},
   "outputs": [
    {
     "data": {
      "text/plain": [
       "0.6713"
      ]
     },
     "execution_count": 9,
     "metadata": {},
     "output_type": "execute_result"
    }
   ],
   "source": [
    "results = []\n",
    "for _ in range(N):\n",
    "    results.append(monty_hall(True))\n",
    "sum(results)/N"
   ]
  },
  {
   "cell_type": "code",
   "execution_count": 10,
   "metadata": {},
   "outputs": [
    {
     "data": {
      "text/plain": [
       "0.6703"
      ]
     },
     "execution_count": 10,
     "metadata": {},
     "output_type": "execute_result"
    }
   ],
   "source": [
    "results = [monty_hall(True) for _ in range(N)]\n",
    "sum(results)/N"
   ]
  },
  {
   "cell_type": "code",
   "execution_count": 11,
   "metadata": {},
   "outputs": [
    {
     "data": {
      "text/plain": [
       "0.6672"
      ]
     },
     "execution_count": 11,
     "metadata": {},
     "output_type": "execute_result"
    }
   ],
   "source": [
    "sum([monty_hall(True) for _ in range(N)])/N"
   ]
  },
  {
   "cell_type": "code",
   "execution_count": 12,
   "metadata": {},
   "outputs": [
    {
     "name": "stdout",
     "output_type": "stream",
     "text": [
      "3, False: 0.3347\n",
      "3, True: 0.669\n",
      "4, False: 0.2522\n",
      "4, True: 0.3763\n",
      "5, False: 0.2046\n",
      "5, True: 0.2619\n",
      "6, False: 0.1746\n",
      "6, True: 0.2126\n",
      "7, False: 0.1453\n",
      "7, True: 0.1731\n",
      "8, False: 0.1259\n",
      "8, True: 0.1445\n",
      "9, False: 0.1097\n",
      "9, True: 0.1255\n",
      "10, False: 0.0928\n",
      "10, True: 0.1124\n"
     ]
    }
   ],
   "source": [
    "for doors in range(3, 10+1):\n",
    "    for strategy in [False, True]:\n",
    "        print(f'{doors}, {strategy}: {sum([monty_hall(strategy, doors) for _ in range(N)])/N}')"
   ]
  },
  {
   "cell_type": "code",
   "execution_count": 13,
   "metadata": {},
   "outputs": [],
   "source": [
    "# pelican cheat sheet\n",
    "\n",
    "# rm -rf output; mkdir output\n",
    "# pelican -s pelicanconf.py -o output -t theme content\n",
    "# cd output; python -m http.server\n",
    "# ghp-import -m \"xyzzy\" -b gh-pages output\n",
    "# git push origin gh-pages"
   ]
  }
 ],
 "metadata": {
  "kernelspec": {
   "display_name": "Python 3",
   "language": "python",
   "name": "python3"
  },
  "language_info": {
   "codemirror_mode": {
    "name": "ipython",
    "version": 3
   },
   "file_extension": ".py",
   "mimetype": "text/x-python",
   "name": "python",
   "nbconvert_exporter": "python",
   "pygments_lexer": "ipython3",
   "version": "3.7.4"
  }
 },
 "nbformat": 4,
 "nbformat_minor": 2
}
