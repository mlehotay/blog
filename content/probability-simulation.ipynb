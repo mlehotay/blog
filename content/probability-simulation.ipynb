{
 "cells": [
  {
   "cell_type": "markdown",
   "metadata": {},
   "source": [
    "Title: Probability Simulation in Python\n",
    "Date: 2019-12-09 06:50\n",
    "Slug: probability-simulation"
   ]
  },
  {
   "cell_type": "markdown",
   "metadata": {},
   "source": [
    "# Probability Simulation in Python"
   ]
  },
  {
   "cell_type": "markdown",
   "metadata": {},
   "source": [
    "Intro. Model probability problems with random variables and frequency. Simulate the problem by running the model many times."
   ]
  },
  {
   "cell_type": "markdown",
   "metadata": {},
   "source": [
    "### Monty Hall\n",
    "\n",
    "description of problem. pictures of goats.\n",
    "https://en.wikipedia.org/wiki/Monty_Hall_problem"
   ]
  },
  {
   "cell_type": "code",
   "execution_count": 1,
   "metadata": {},
   "outputs": [],
   "source": [
    "import random"
   ]
  },
  {
   "cell_type": "code",
   "execution_count": 2,
   "metadata": {},
   "outputs": [
    {
     "name": "stdout",
     "output_type": "stream",
     "text": [
      "Game begins. (The car is behind door 2).\n",
      "Player chooses door 1.\n",
      "Monty opens door 3 to reveal a goat.\n",
      "Player switches to door 2.\n",
      "Monty opens door 2 to reveal the car.\n",
      "Player wins!\n"
     ]
    }
   ],
   "source": [
    "# game setup\n",
    "NUM_DOORS = 3\n",
    "assert NUM_DOORS > 2, 'not enough doors'\n",
    "random.seed()\n",
    "winning_door = random.randint(1, NUM_DOORS) # randomly select the winning door\n",
    "print(f'Game begins. (The car is behind door {winning_door}).')\n",
    "\n",
    "# player chooses one of the doors\n",
    "player_door = random.randint(1, NUM_DOORS)\n",
    "print(f'Player chooses door {player_door}.')\n",
    "\n",
    "# Monty opens a different door to reveal a goat\n",
    "while(True):\n",
    "    goat_door = random.randint(1, NUM_DOORS)\n",
    "    if(goat_door != winning_door and goat_door != player_door):\n",
    "        break\n",
    "print(f'Monty opens door {goat_door} to reveal a goat.')\n",
    "\n",
    "# player chooses another door, if they want to\n",
    "switch = random.choice([False, True])\n",
    "if(switch):\n",
    "    while(True):\n",
    "        new_door = random.randint(1, NUM_DOORS)\n",
    "        if(new_door != player_door and new_door != goat_door):\n",
    "            break\n",
    "    player_door = new_door\n",
    "    print(f'Player switches to door {player_door}.')\n",
    "else:\n",
    "    print(f'Player still chooses door {player_door}.')\n",
    "\n",
    "# determine the outcome\n",
    "print(f'Monty opens door {winning_door} to reveal the car.')\n",
    "if player_door == winning_door:\n",
    "    print('Player wins!')\n",
    "else:\n",
    "    print('Player loses.')"
   ]
  },
  {
   "cell_type": "markdown",
   "metadata": {},
   "source": [
    "summary of how this model represents the problem"
   ]
  },
  {
   "cell_type": "code",
   "execution_count": 3,
   "metadata": {},
   "outputs": [],
   "source": [
    "# run the simulation many times"
   ]
  },
  {
   "cell_type": "markdown",
   "metadata": {},
   "source": [
    "explain results of the simulation, discuss how frequency represents probability"
   ]
  },
  {
   "cell_type": "code",
   "execution_count": 4,
   "metadata": {},
   "outputs": [],
   "source": [
    "# show some graphs"
   ]
  },
  {
   "cell_type": "markdown",
   "metadata": {},
   "source": [
    "conclusion"
   ]
  },
  {
   "cell_type": "code",
   "execution_count": 5,
   "metadata": {},
   "outputs": [],
   "source": [
    "# pelican cheat sheet\n",
    "\n",
    "# rm -rf output; mkdir output\n",
    "# pelican -s pelicanconf.py -o output -t theme content\n",
    "# cd output; python -m http.server\n",
    "# ghp-import -m \"xyzzy\" -b gh-pages output\n",
    "# git push origin gh-pages"
   ]
  }
 ],
 "metadata": {
  "kernelspec": {
   "display_name": "Python 3",
   "language": "python",
   "name": "python3"
  },
  "language_info": {
   "codemirror_mode": {
    "name": "ipython",
    "version": 3
   },
   "file_extension": ".py",
   "mimetype": "text/x-python",
   "name": "python",
   "nbconvert_exporter": "python",
   "pygments_lexer": "ipython3",
   "version": "3.7.4"
  }
 },
 "nbformat": 4,
 "nbformat_minor": 2
}
