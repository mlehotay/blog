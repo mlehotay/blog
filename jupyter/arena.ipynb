{
 "cells": [
  {
   "cell_type": "markdown",
   "metadata": {},
   "source": [
    "Title: RPG Combat Simulator\n",
    "Date: 2020-01-24 09:41\n",
    "Modified: 2020-01-26 04:52\n",
    "Category: Games\n",
    "Tags: simulation, probability, object-oriented\n",
    "Slug: arena\n",
    "Status: published"
   ]
  },
  {
   "cell_type": "markdown",
   "metadata": {},
   "source": [
    "I have been thinking about combat in RPG games lately and wondering if I could come up with a way to model combat that I could use for machine learning. I'd like to be able to make decisions about the best weapon to wield and the best armor to wear, and to be able to predict the odds of surviving a particular battle. The obvious approach is to simulate the battle many times and use statistics!"
   ]
  },
  {
   "cell_type": "markdown",
   "metadata": {},
   "source": [
    "Our combat system will be pretty basic. For simplicity it will only use melee weapons and not have any missile weapons or magic. Other than that it will work like many tabletop role-playing games: fighters take turns attacking each other and the outcome of each attack is randomly determined by rolling dice. A regular set of dice contains dice with 4, 6, 8, 10, 12, and 20 sides.\n",
    "\n",
    "Combatants have three variables that describe their toughness and their state of health:\n",
    "\n",
    "  * **Level** is a measure of a fighter's skill and experience.\n",
    "  * **Health** or (**hit points**) is the amount of injury the fighter can withstand.\n",
    "  * **Armor class** describes how easy or difficult it is to hit a fighter. The lower their AC, the harder they are to hit.\n",
    "\n",
    "To attack, roll a 20-sided die to see if you hit your opponent. You need to roll a certain number or higher to hit. The formula is `22 - level - armor_class`. For example, to hit an opponent with armor class 10, a level 1 fighter needs to roll an 11 or higher (22 - 1 - 10 = 11).\n",
    "\n",
    "If you hit, then roll to see how much damage you do. The number of dice and what kind of dice is determined by the weapon you are wielding."
   ]
  },
  {
   "cell_type": "markdown",
   "metadata": {},
   "source": [
    "Let's start by implementing rolls of the dice. We'll use this function any time we need to generate a random number."
   ]
  },
  {
   "cell_type": "code",
   "execution_count": 1,
   "metadata": {},
   "outputs": [],
   "source": [
    "import random\n",
    "\n",
    "def roll(dice, sides):\n",
    "    total = 0\n",
    "    for _ in range(0, dice):\n",
    "        total += random.randint(1, sides)\n",
    "    return total"
   ]
  },
  {
   "cell_type": "markdown",
   "metadata": {},
   "source": [
    "And now we define the weapons and armor as dictionaries.\n",
    "\n",
    "The amount of damage a weapon can do is represented as a tuple with three elements: the number of dice, the number of sides per die, and an addend. For example, a flail does 2-7 points of damage by rolling a 6-sided die and adding 1 (1d6+1)."
   ]
  },
  {
   "cell_type": "code",
   "execution_count": 2,
   "metadata": {},
   "outputs": [],
   "source": [
    "weapon_list = {\n",
    "    None: (1,2,0),  # 1d2\n",
    "    'axe': (1,6,0), # 1d6\n",
    "    'battle axe': (1,8,0), # 1d8\n",
    "    'club': (1,6,0),\n",
    "    'dagger': (1,4,0),\n",
    "    'flail': (1,6,1), # 1d6+1\n",
    "    'hammer': (1,4,1),\n",
    "    'mace': (1,6,1),\n",
    "    'morning star': (2,4,0), # 2d4\n",
    "    'scimitar': (1,8,0),\n",
    "    'spear': (1,6,0),\n",
    "    'quarterstaff': (1,6,0),\n",
    "    'broad sword': (2,4,0),\n",
    "    'long sword': (1,8,0),\n",
    "    'short sword': (1,6,0),\n",
    "    'trident': (1,6,1),\n",
    "    'two-handed sword': (1,10,0)\n",
    "}"
   ]
  },
  {
   "cell_type": "markdown",
   "metadata": {},
   "source": [
    "The value for a type of armor is the amount of protection it provides. The values correspond to the difference in the die roll needed to hit an opponent. So if you need to roll a 13 to hit an enemy wearing ring mail, you'd need to roll a 15 to hit an opponent in chain mail."
   ]
  },
  {
   "cell_type": "code",
   "execution_count": 3,
   "metadata": {},
   "outputs": [],
   "source": [
    "armor_list = {\n",
    "    None: 0,\n",
    "    'shield': 1,\n",
    "    'padded armor': 2,\n",
    "    'leather armor': 2,\n",
    "    'studded leather': 3,\n",
    "    'ring mail': 3,\n",
    "    'scale mail': 4,\n",
    "    'chain mail': 5,\n",
    "    'splint mail': 6,\n",
    "    'banded mail': 6,\n",
    "    'plate mail': 7\n",
    "}"
   ]
  },
  {
   "cell_type": "markdown",
   "metadata": {},
   "source": [
    "## Fighter\n",
    "\n",
    "Here is the `Fighter` class to represent a combatant.\n",
    "\n",
    "The constructor takes the `name`, `level`, `faction`, `weapon`, and `armor` for the fighter. `Name` is the fighter's name (e.g., Frodo) and `faction` is the name of the \"side\" they are on. Fighters from the same faction will not attack each other. Values for `faction` could be 'good' and 'evil' or anything else you want. The `battle` member variable will be assigned a value when the fighter enters the arena. For now, set it to None."
   ]
  },
  {
   "cell_type": "code",
   "execution_count": 4,
   "metadata": {},
   "outputs": [],
   "source": [
    "class Fighter:\n",
    "    def __init__(self, name, level, faction, weapon, armor):\n",
    "        self.name = name\n",
    "        self.level = level\n",
    "        self.max_health = sum(roll(1,10) for _ in range(0,level))\n",
    "        self.health = self.max_health\n",
    "        self.faction = faction\n",
    "        self.weapon = weapon\n",
    "        self.armor = armor\n",
    "        self.armor_class = 10 - armor_list[self.armor]\n",
    "        self.battle = None\n",
    "\n",
    "    def __repr__(self):\n",
    "        return f'{self.name} ({self.health}/{self.max_health}) \\\n",
    "            [Level {self.level} {self.__class__.__name__}, {self.weapon}, {self.armor}, {self.faction}]'"
   ]
  },
  {
   "cell_type": "markdown",
   "metadata": {},
   "source": [
    "On each turn the fighter will make a list all the opponents in the battle (anybody not in their faction), and then randomly select one to attack."
   ]
  },
  {
   "cell_type": "code",
   "execution_count": 5,
   "metadata": {},
   "outputs": [],
   "source": [
    "    def take_turn(self):\n",
    "        opponents = [f for f in self.battle.fighters if f.faction!=self.faction]\n",
    "        if(opponents != []):\n",
    "            target = random.choice(opponents)\n",
    "            self.attack(target)"
   ]
  },
  {
   "cell_type": "markdown",
   "metadata": {},
   "source": [
    "The attack hits its target if the fighter rolls a high enough number. That number is `22 - level - armor_class`.\n",
    "\n",
    "If the attack hits then roll again to calculate the amount of damage and call the target's `take_damage` method."
   ]
  },
  {
   "cell_type": "code",
   "execution_count": 6,
   "metadata": {},
   "outputs": [],
   "source": [
    "    def attack(self, opponent):\n",
    "        if (roll(1,20) >= (22 - self.level - opponent.armor_class)):\n",
    "            (dice, sides, plus) = weapon_list[self.weapon]\n",
    "            damage = roll(dice, sides) + plus\n",
    "            opponent.take_damage(damage, self)\n",
    "        elif(self.battle.verbose):\n",
    "            print(f'  {self.name} swings at {opponent.name} and misses')"
   ]
  },
  {
   "cell_type": "markdown",
   "metadata": {},
   "source": [
    "Note here that when the target object's `take_damage` method is called, the program flow transfers from the attacker to the opponent. Now `self` no longer refers to the attacking fighter and instead it refers to the target.\n",
    "\n",
    "When a fighter's health is reduced to zero they die."
   ]
  },
  {
   "cell_type": "code",
   "execution_count": 7,
   "metadata": {},
   "outputs": [],
   "source": [
    "    def take_damage(self, damage, attacker):\n",
    "        if self.battle.verbose:\n",
    "            print(f'  {attacker.name} attacks {self.name} for {damage} damage')\n",
    "        self.health -= damage\n",
    "        if(self.health < 1):\n",
    "            self.die()\n",
    "\n",
    "    def die(self):\n",
    "        if self.battle.verbose:\n",
    "            print(f'  {self.name} dies!')\n",
    "        self.battle.fighters.remove(self)\n",
    "        self.battle = None"
   ]
  },
  {
   "cell_type": "markdown",
   "metadata": {},
   "source": [
    "## Battle\n",
    "\n",
    "Here we have a class to represent a battle between two or more fighters. The battle has a `title`, a list of `fighters`, a `turn` counter, and a `winner`. The constructor gets called with a list of `roles` that describe how each fighter object should be instantiated, and a boolean verbosity flag. When `verbose` is set to true then the play-by-play action of the battle is printed.\n",
    "\n",
    "A `Fighter` object is created for each `role` passed to the `Battle` constructor. The fighters are then added to the battle by calling its `add_fighter` method."
   ]
  },
  {
   "cell_type": "markdown",
   "metadata": {},
   "source": [
    "The `roles` parameter is a list of dictionaries with the following keys (and example values):\n",
    "```\n",
    "{\n",
    "  'name':    'Boromir',\n",
    "  'faction': 'Gondor',\n",
    "  'level':    9,\n",
    "  'class':    Fighter,\n",
    "  'weapon':  'long sword',\n",
    "  'armor':   'chain mail'\n",
    "}\n",
    "```"
   ]
  },
  {
   "cell_type": "code",
   "execution_count": 8,
   "metadata": {},
   "outputs": [],
   "source": [
    "class Battle:\n",
    "    def __init__(self, title, roles, verbose):\n",
    "        self.title = title\n",
    "        self.verbose = verbose\n",
    "        self.fighters = []\n",
    "        self.winner = None\n",
    "        self.turn = 0\n",
    "        for role in roles:\n",
    "            fighter = role['class'](role['name'], role['level'], role['faction'], role['weapon'], role['armor'])\n",
    "            self.add_fighter(fighter)\n",
    "\n",
    "    def __repr__(self):\n",
    "        return f'{self.title} turn {self.turn}'\n",
    "\n",
    "    def add_fighter(self, fighter):\n",
    "        self.fighters.append(fighter)\n",
    "        fighter.battle = self"
   ]
  },
  {
   "cell_type": "markdown",
   "metadata": {},
   "source": [
    "The battle proceeds in rounds. During a round each fighter is given their turn to attack. The battle ends when all the surviving fighters are from the same faction."
   ]
  },
  {
   "cell_type": "code",
   "execution_count": 9,
   "metadata": {},
   "outputs": [],
   "source": [
    "    def fight_battle(self):\n",
    "        if self.verbose:\n",
    "            print(f'{self.title} fighters:')\n",
    "            for fighter in self.fighters:\n",
    "                print(fighter)\n",
    "        while self.winner == None:\n",
    "            self.play_round()\n",
    "        if self.verbose:\n",
    "            print(f'{self.winner} wins {self.title}!')\n",
    "        return self.winner\n",
    "\n",
    "    def play_round(self):\n",
    "        self.turn += 1\n",
    "        if self.verbose:\n",
    "            print(f'{self}:')\n",
    "        for f in self.fighters:\n",
    "            f.take_turn()\n",
    "        if len({f.faction for f in self.fighters}) == 1:\n",
    "            self.winner = self.fighters[0].faction"
   ]
  },
  {
   "cell_type": "markdown",
   "metadata": {},
   "source": [
    "We've got enough code written now to simulate a full battle. Let's give it a go."
   ]
  },
  {
   "cell_type": "code",
   "execution_count": 12,
   "metadata": {},
   "outputs": [
    {
     "name": "stdout",
     "output_type": "stream",
     "text": [
      "Test Battle fighters:\n",
      "Bob (11/11) [Level 2 Fighter, scimitar, chain mail, Green Banner]\n",
      "Alice (8/8) [Level 1 Fighter, short sword, leather armor, Mithril Order]\n",
      "Eve (9/9) [Level 1 Fighter, flail, shield, Mithril Order]\n",
      "Test Battle turn 1:\n",
      "  Bob swings at Alice and misses\n",
      "  Alice swings at Bob and misses\n",
      "  Eve attacks Bob for 6 damage\n",
      "Test Battle turn 2:\n",
      "  Bob swings at Eve and misses\n",
      "  Alice swings at Bob and misses\n",
      "  Eve attacks Bob for 5 damage\n",
      "  Bob dies!\n",
      "Mithril Order wins Test Battle!\n"
     ]
    },
    {
     "data": {
      "text/plain": [
       "'Mithril Order'"
      ]
     },
     "execution_count": 12,
     "metadata": {},
     "output_type": "execute_result"
    }
   ],
   "source": [
    "roles = [\n",
    "    {'name': 'Bob', 'faction': 'Green Banner', 'level': 2,\n",
    "     'class':Fighter, 'weapon':'scimitar', 'armor':'chain mail'},\n",
    "    {'name': 'Alice', 'faction': 'Mithril Order', 'level': 1,\n",
    "     'class':Fighter, 'weapon':'short sword', 'armor':'leather armor'},\n",
    "    {'name': 'Eve', 'faction': 'Mithril Order', 'level': 1,\n",
    "     'class':Fighter, 'weapon':'flail', 'armor':'shield'}\n",
    "]\n",
    "\n",
    "Battle('Test Battle', roles, True).fight_battle()"
   ]
  },
  {
   "cell_type": "markdown",
   "metadata": {},
   "source": [
    "## Arena\n",
    "\n",
    "Now we need to repeat many `iterations` of the battle so that we can estimate each faction's probability of winning. 1000 times should be plenty.\n",
    "\n",
    "We create a set of `factions` by adding the faction of each `role`. Using a set ensures that we only count each faction once. Then we start fighting battles and counting `wins`.\n",
    "\n",
    "The `print_probabilities` method prints the probability of each faction winning based on their observed win frequencies."
   ]
  },
  {
   "cell_type": "code",
   "execution_count": 13,
   "metadata": {},
   "outputs": [],
   "source": [
    "class Arena:\n",
    "    def __init__(self, roles, iterations=1000, verbose=False):\n",
    "        self.roles = roles\n",
    "        self.iterations = iterations\n",
    "        self.verbose = verbose\n",
    "        self.factions = {role['faction'] for role in roles}\n",
    "        self.wins = {faction:0 for faction in self.factions}\n",
    "        self.winner = None\n",
    "\n",
    "    def simulate_battle(self):\n",
    "        for i in range(0, self.iterations):\n",
    "            winner = Battle(f'Battle {i+1}', self.roles, self.verbose).fight_battle()\n",
    "            self.wins[winner] += 1\n",
    "\n",
    "    def print_probabilities(self):\n",
    "        print('Estimated Probabilities of Victory:')\n",
    "        for faction in sorted(self.factions):\n",
    "            print(f'{faction}: {self.wins[faction]/self.iterations}')"
   ]
  },
  {
   "cell_type": "markdown",
   "metadata": {},
   "source": [
    "That's it! We are done! Let's see how it works with more than one iteration."
   ]
  },
  {
   "cell_type": "code",
   "execution_count": 14,
   "metadata": {},
   "outputs": [
    {
     "name": "stdout",
     "output_type": "stream",
     "text": [
      "Battle 1 fighters:\n",
      "Bob (11/11) [Level 2 Fighter, scimitar, chain mail, Green Banner]\n",
      "Alice (10/10) [Level 1 Fighter, short sword, leather armor, Mithril Order]\n",
      "Eve (1/1) [Level 1 Fighter, flail, shield, Mithril Order]\n",
      "Battle 1 turn 1:\n",
      "  Bob attacks Eve for 6 damage\n",
      "  Eve dies!\n",
      "  Alice swings at Bob and misses\n",
      "Battle 1 turn 2:\n",
      "  Bob attacks Alice for 8 damage\n",
      "  Alice swings at Bob and misses\n",
      "Battle 1 turn 3:\n",
      "  Bob swings at Alice and misses\n",
      "  Alice swings at Bob and misses\n",
      "Battle 1 turn 4:\n",
      "  Bob attacks Alice for 1 damage\n",
      "  Alice swings at Bob and misses\n",
      "Battle 1 turn 5:\n",
      "  Bob swings at Alice and misses\n",
      "  Alice swings at Bob and misses\n",
      "Battle 1 turn 6:\n",
      "  Bob swings at Alice and misses\n",
      "  Alice swings at Bob and misses\n",
      "Battle 1 turn 7:\n",
      "  Bob attacks Alice for 7 damage\n",
      "  Alice dies!\n",
      "Green Banner wins Battle 1!\n",
      "Battle 2 fighters:\n",
      "Bob (6/6) [Level 2 Fighter, scimitar, chain mail, Green Banner]\n",
      "Alice (6/6) [Level 1 Fighter, short sword, leather armor, Mithril Order]\n",
      "Eve (2/2) [Level 1 Fighter, flail, shield, Mithril Order]\n",
      "Battle 2 turn 1:\n",
      "  Bob swings at Alice and misses\n",
      "  Alice swings at Bob and misses\n",
      "  Eve swings at Bob and misses\n",
      "Battle 2 turn 2:\n",
      "  Bob attacks Alice for 2 damage\n",
      "  Alice attacks Bob for 6 damage\n",
      "  Bob dies!\n",
      "Mithril Order wins Battle 2!\n",
      "Estimated Probabilities of Victory:\n",
      "Green Banner: 0.5\n",
      "Mithril Order: 0.5\n"
     ]
    }
   ],
   "source": [
    "arena = Arena(roles, iterations=2, verbose=True)\n",
    "arena.simulate_battle()\n",
    "arena.print_probabilities()"
   ]
  },
  {
   "cell_type": "markdown",
   "metadata": {},
   "source": [
    "That works pretty well. I am happy with that! Let's do it again with 1000 iterations."
   ]
  },
  {
   "cell_type": "code",
   "execution_count": 15,
   "metadata": {},
   "outputs": [
    {
     "name": "stdout",
     "output_type": "stream",
     "text": [
      "Estimated Probabilities of Victory:\n",
      "Green Banner: 0.606\n",
      "Mithril Order: 0.394\n"
     ]
    }
   ],
   "source": [
    "arena = Arena(roles)\n",
    "arena.simulate_battle()\n",
    "arena.print_probabilities()"
   ]
  },
  {
   "cell_type": "markdown",
   "metadata": {},
   "source": [
    "It looks like the Green Banner has the edge in this battle. They are predicted to win about 60% of the time."
   ]
  },
  {
   "cell_type": "code",
   "execution_count": 16,
   "metadata": {},
   "outputs": [
    {
     "name": "stdout",
     "output_type": "stream",
     "text": [
      "Estimated Probabilities of Victory:\n",
      "Green Banner: 0.617\n",
      "Mithril Order: 0.383\n"
     ]
    }
   ],
   "source": [
    "arena = Arena(roles)\n",
    "arena.simulate_battle()\n",
    "arena.print_probabilities()"
   ]
  },
  {
   "cell_type": "markdown",
   "metadata": {},
   "source": [
    "And the predictions are pretty repeatable. Awesome! I wonder what happens if we give one of the Mithril Order fighters some better equipment."
   ]
  },
  {
   "cell_type": "code",
   "execution_count": 26,
   "metadata": {},
   "outputs": [
    {
     "name": "stdout",
     "output_type": "stream",
     "text": [
      "Estimated Probabilities of Victory:\n",
      "Green Banner: 0.423\n",
      "Mithril Order: 0.577\n"
     ]
    }
   ],
   "source": [
    "roles[2] = {'name': 'Eve', 'faction': 'Mithril Order', 'level': 1,\n",
    "            'class':Fighter, 'weapon':'broad sword', 'armor':'splint mail'}\n",
    "\n",
    "arena = Arena(roles)\n",
    "arena.simulate_battle()\n",
    "arena.print_probabilities()"
   ]
  },
  {
   "cell_type": "markdown",
   "metadata": {},
   "source": [
    "I put all the code for this blog post on GitHub: [https://github.com/mlehotay/arena](https://github.com/mlehotay/arena)"
   ]
  }
 ],
 "metadata": {
  "kernelspec": {
   "display_name": "Python 3",
   "language": "python",
   "name": "python3"
  },
  "language_info": {
   "codemirror_mode": {
    "name": "ipython",
    "version": 3
   },
   "file_extension": ".py",
   "mimetype": "text/x-python",
   "name": "python",
   "nbconvert_exporter": "python",
   "pygments_lexer": "ipython3",
   "version": "3.7.4"
  }
 },
 "nbformat": 4,
 "nbformat_minor": 2
}
