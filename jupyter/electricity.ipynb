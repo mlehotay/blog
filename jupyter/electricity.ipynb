{
 "cells": [
  {
   "cell_type": "code",
   "execution_count": 1,
   "metadata": {},
   "outputs": [],
   "source": [
    "import pandas as pd\n",
    "import numpy as np\n",
    "from sklearn.model_selection import train_test_split\n",
    "from sklearn.impute import SimpleImputer\n",
    "from sklearn.preprocessing import StandardScaler\n",
    "from sklearn_pandas import DataFrameMapper"
   ]
  },
  {
   "cell_type": "code",
   "execution_count": 2,
   "metadata": {},
   "outputs": [],
   "source": [
    "pd.options.display.max_columns = 40"
   ]
  },
  {
   "cell_type": "markdown",
   "metadata": {},
   "source": [
    "I received some excel files from my father-in-law containing information about electricity consumption in Ontario. He looked up the data [on the web](http://www.webroots.ca/static/ontarioelectricity/ontarioelectricity.html) three times daily and manually entered it into a spreadsheet.  There are three files in xlsx format. File 1 is observations from 2018, file 2 is observations from 2019, and file 3 is 1000 observations starting from August 2018 (approximately 13 months).\n",
    "\n",
    "Loaded files in LibreOffice Calc to preview data. \n",
    "\n",
    "Most date entries are in dd-mmm format but a few are in dd-mmm-yy.\n",
    "\n",
    "Column headers span two rows: row 1 is name and row 2 is units. Header in file 2 is an image instead of text.\n",
    "\n",
    "File 3 contains two sheets with data. Looks like 1st sheet is a copy of the 2018 data and 2nd sheet is combined data from 2018-08-25 through 2019-09-30.\n",
    "\n",
    "I see at least one data entry error (cell F12 in file 1).\n",
    "\n",
    "Files 1 and 3 contain summary statisitics:\n",
    "Three rows of stats at the bottom of the sheet: min, max, and avg of each column.\n",
    "The two rightmost columns show average daily totals per month, and name of the month.\n",
    "\n",
    "![](images/spreadsheet.png)"
   ]
  },
  {
   "cell_type": "markdown",
   "metadata": {},
   "source": [
    "Fixed headers to contain both name and units in one row.\n",
    "\n",
    "Set the format of all the date columns to `yyyy-mm-dd`.\n",
    "\n",
    "Some of the numbers in the data contain commas (cell E6 and all of column R). Fixed by setting excel number format to `0.0` for percent columns and `0` for MW columns.\n",
    "\n",
    "Deleted summary statistics.\n",
    "\n",
    "Exported all four sheets as CSV."
   ]
  },
  {
   "cell_type": "markdown",
   "metadata": {},
   "source": [
    "Diffed the exported csv files. The extra sheet in file 3 is an unchanged copy of the data from file 1. Generated checksums to verify."
   ]
  },
  {
   "cell_type": "code",
   "execution_count": 3,
   "metadata": {},
   "outputs": [
    {
     "name": "stdout",
     "output_type": "stream",
     "text": [
      "1070850776 26838 data/electricity1.csv\r\n",
      "4245893866 90971 data/electricity2.csv\r\n",
      "3911391547 96667 data/electricity3.csv\r\n",
      "1070850776 26838 data/electricity3a.csv\r\n",
      "2750527202 121891 data/electricity4.csv\r\n"
     ]
    }
   ],
   "source": [
    "!diff data/electricity1.csv data/electricity3a.csv\n",
    "!cksum data/*.csv"
   ]
  },
  {
   "cell_type": "code",
   "execution_count": 4,
   "metadata": {},
   "outputs": [],
   "source": [
    "df1 = pd.read_csv('data/electricity1.csv') # 2018 data\n",
    "df2 = pd.read_csv('data/electricity2.csv') # 2019 data\n",
    "df3 = pd.read_csv('data/electricity3.csv') # ~1000 observations starting August 2018"
   ]
  },
  {
   "cell_type": "code",
   "execution_count": 5,
   "metadata": {},
   "outputs": [],
   "source": [
    "df4 = df1.append(df2)\n",
    "df4.to_csv('data/electricity4.csv', index=False) # all data in one file"
   ]
  },
  {
   "cell_type": "code",
   "execution_count": 6,
   "metadata": {},
   "outputs": [
    {
     "name": "stdout",
     "output_type": "stream",
     "text": [
      "(293, 18)\n",
      "(1018, 18)\n",
      "(1075, 18)\n",
      "(1311, 18)\n"
     ]
    }
   ],
   "source": [
    "print(df1.shape)\n",
    "print(df2.shape)\n",
    "print(df3.shape)\n",
    "print(df4.shape)"
   ]
  },
  {
   "cell_type": "markdown",
   "metadata": {},
   "source": [
    "So now we've got all 1311 records in one data frame, `df4`. Let's take a look at these values and see what's up with the percentages. There were no formulas in the excel files so I'm thinking these values may have been calculated by hand, or maybe transcribed from the website. In any case they are probably redundant since we have the actual MW values. Let's check the math to make sure."
   ]
  },
  {
   "cell_type": "code",
   "execution_count": 7,
   "metadata": {},
   "outputs": [],
   "source": [
    "# something is going on with the dtypes, try forcing them to be numeric\n",
    "df = pd.read_csv('data/electricity1.csv', parse_dates={'iso8601': [0, 1, 2]}, \n",
    "                  dtype={'Nuclear %': np.float64,\n",
    "                         'Nuclear MW': np.int64,\n",
    "                         'Hydro %': np.float64,\n",
    "                         'Hydro MW': np.int64,\n",
    "                         'Gas %': np.float64,\n",
    "                         'Gas MW': np.int64,\n",
    "                         'Wind %': np.float64,\n",
    "                         'Wind MW': np.int64,\n",
    "                         'Solar %': np.float64,\n",
    "                         'Solar MW': np.float64,\n",
    "                         'Biofuel %': np.object, # fix me\n",
    "                         'Biofuel MW': np.float64,\n",
    "                         'Nuc.+Hyd. %': np.float64,\n",
    "                         'Nuc.+Hyd. MW': np.int64,\n",
    "                         'Total MW': np.int64\n",
    "                        })"
   ]
  },
  {
   "cell_type": "code",
   "execution_count": 8,
   "metadata": {},
   "outputs": [
    {
     "data": {
      "text/html": [
       "<div>\n",
       "<style scoped>\n",
       "    .dataframe tbody tr th:only-of-type {\n",
       "        vertical-align: middle;\n",
       "    }\n",
       "\n",
       "    .dataframe tbody tr th {\n",
       "        vertical-align: top;\n",
       "    }\n",
       "\n",
       "    .dataframe thead th {\n",
       "        text-align: right;\n",
       "    }\n",
       "</style>\n",
       "<table border=\"1\" class=\"dataframe\">\n",
       "  <thead>\n",
       "    <tr style=\"text-align: right;\">\n",
       "      <th></th>\n",
       "      <th>iso8601</th>\n",
       "      <th>Nuclear %</th>\n",
       "      <th>Nuclear MW</th>\n",
       "      <th>Hydro %</th>\n",
       "      <th>Hydro MW</th>\n",
       "      <th>Gas %</th>\n",
       "      <th>Gas MW</th>\n",
       "      <th>Wind %</th>\n",
       "      <th>Wind MW</th>\n",
       "      <th>Solar %</th>\n",
       "      <th>Solar MW</th>\n",
       "      <th>Biofuel %</th>\n",
       "      <th>Biofuel MW</th>\n",
       "      <th>Nuc.+Hyd. %</th>\n",
       "      <th>Nuc.+Hyd. MW</th>\n",
       "      <th>Total MW</th>\n",
       "    </tr>\n",
       "  </thead>\n",
       "  <tbody>\n",
       "    <tr>\n",
       "      <td>18</td>\n",
       "      <td>2018-09-01 14:45:00</td>\n",
       "      <td>57.8</td>\n",
       "      <td>9635</td>\n",
       "      <td>19.0</td>\n",
       "      <td>3171</td>\n",
       "      <td>13.0</td>\n",
       "      <td>2173</td>\n",
       "      <td>8.4</td>\n",
       "      <td>1393</td>\n",
       "      <td>1.4</td>\n",
       "      <td>209.0</td>\n",
       "      <td>0.4</td>\n",
       "      <td>69.0</td>\n",
       "      <td>76.8</td>\n",
       "      <td>12806</td>\n",
       "      <td>15554</td>\n",
       "    </tr>\n",
       "    <tr>\n",
       "      <td>73</td>\n",
       "      <td>2018-10-04 15:45:00</td>\n",
       "      <td>60.0</td>\n",
       "      <td>10582</td>\n",
       "      <td>21.6</td>\n",
       "      <td>3469</td>\n",
       "      <td>4.5</td>\n",
       "      <td>683</td>\n",
       "      <td>6.1</td>\n",
       "      <td>974</td>\n",
       "      <td>1.9</td>\n",
       "      <td>289.0</td>\n",
       "      <td>0.2</td>\n",
       "      <td>27.0</td>\n",
       "      <td>81.6</td>\n",
       "      <td>14051</td>\n",
       "      <td>15144</td>\n",
       "    </tr>\n",
       "    <tr>\n",
       "      <td>99</td>\n",
       "      <td>2018-10-16 12:45:00</td>\n",
       "      <td>63.2</td>\n",
       "      <td>10619</td>\n",
       "      <td>22.3</td>\n",
       "      <td>3751</td>\n",
       "      <td>1.1</td>\n",
       "      <td>172</td>\n",
       "      <td>11.6</td>\n",
       "      <td>1950</td>\n",
       "      <td>1.7</td>\n",
       "      <td>251.0</td>\n",
       "      <td>0.3</td>\n",
       "      <td>52.0</td>\n",
       "      <td>85.5</td>\n",
       "      <td>14370</td>\n",
       "      <td>15038</td>\n",
       "    </tr>\n",
       "    <tr>\n",
       "      <td>143</td>\n",
       "      <td>2018-11-08 16:45:00</td>\n",
       "      <td>60.3</td>\n",
       "      <td>10547</td>\n",
       "      <td>26.3</td>\n",
       "      <td>4605</td>\n",
       "      <td>10.5</td>\n",
       "      <td>1835</td>\n",
       "      <td>3.7</td>\n",
       "      <td>457</td>\n",
       "      <td>0.1</td>\n",
       "      <td>25.0</td>\n",
       "      <td>0.2</td>\n",
       "      <td>28.0</td>\n",
       "      <td>86.6</td>\n",
       "      <td>15152</td>\n",
       "      <td>17085</td>\n",
       "    </tr>\n",
       "    <tr>\n",
       "      <td>237</td>\n",
       "      <td>2018-12-12 13:45:00</td>\n",
       "      <td>55.5</td>\n",
       "      <td>9973</td>\n",
       "      <td>21.7</td>\n",
       "      <td>3909</td>\n",
       "      <td>11.3</td>\n",
       "      <td>3034</td>\n",
       "      <td>11.0</td>\n",
       "      <td>1983</td>\n",
       "      <td>0.3</td>\n",
       "      <td>57.0</td>\n",
       "      <td>0.1</td>\n",
       "      <td>28.0</td>\n",
       "      <td>77.2</td>\n",
       "      <td>13882</td>\n",
       "      <td>18899</td>\n",
       "    </tr>\n",
       "  </tbody>\n",
       "</table>\n",
       "</div>"
      ],
      "text/plain": [
       "                iso8601  Nuclear %  Nuclear MW  Hydro %  Hydro MW  Gas %  \\\n",
       "18  2018-09-01 14:45:00       57.8        9635     19.0      3171   13.0   \n",
       "73  2018-10-04 15:45:00       60.0       10582     21.6      3469    4.5   \n",
       "99  2018-10-16 12:45:00       63.2       10619     22.3      3751    1.1   \n",
       "143 2018-11-08 16:45:00       60.3       10547     26.3      4605   10.5   \n",
       "237 2018-12-12 13:45:00       55.5        9973     21.7      3909   11.3   \n",
       "\n",
       "     Gas MW  Wind %  Wind MW  Solar %  Solar MW Biofuel %  Biofuel MW  \\\n",
       "18     2173     8.4     1393      1.4     209.0       0.4        69.0   \n",
       "73      683     6.1      974      1.9     289.0       0.2        27.0   \n",
       "99      172    11.6     1950      1.7     251.0       0.3        52.0   \n",
       "143    1835     3.7      457      0.1      25.0       0.2        28.0   \n",
       "237    3034    11.0     1983      0.3      57.0       0.1        28.0   \n",
       "\n",
       "     Nuc.+Hyd. %  Nuc.+Hyd. MW  Total MW  \n",
       "18          76.8         12806     15554  \n",
       "73          81.6         14051     15144  \n",
       "99          85.5         14370     15038  \n",
       "143         86.6         15152     17085  \n",
       "237         77.2         13882     18899  "
      ]
     },
     "execution_count": 8,
     "metadata": {},
     "output_type": "execute_result"
    }
   ],
   "source": [
    "df.dropna(inplace = True)\n",
    "df[((df['Nuclear MW']/df['Total MW']) - (df['Nuclear %']/100) >= 0.01) |\n",
    "    ((df['Hydro MW'] / df['Total MW']) - (df['Hydro %'] / 100) >= 0.01) |\n",
    "    ((df['Gas MW'] / df['Total MW']) - (df['Gas %'] / 100) >= 0.01) |\n",
    "    ((df['Wind MW'] / df['Total MW']) - (df['Wind %'] / 100) >= 0.01) |\n",
    "    ((df['Solar MW'] / df['Total MW']) - (df['Solar %'] / 100) >= 0.01) \n",
    "    #((df['Biofuel MW'] / df['Total MW']) - (df['Biofuel %'] / 100) >= 0.01) |\n",
    "    #((df['Nuc.+Hyd. MW'] / df['Total MW']) - (df['Nuc.+Hyd. %'] / 100) >= 0.01) \n",
    "]"
   ]
  },
  {
   "cell_type": "markdown",
   "metadata": {},
   "source": [
    "5 rows have miscalculated percentages, but all the other rows are calculated correctly. Probably data entry errors. Now that we've verified the percentage columns are derived from the MW columns, we can safely drop them."
   ]
  },
  {
   "cell_type": "code",
   "execution_count": 9,
   "metadata": {},
   "outputs": [],
   "source": [
    "df5 = pd.read_csv('data/electricity1.csv', parse_dates={'iso8601': [0, 1, 2]}, \n",
    "                  dtype={'Nuclear MW': np.int64,\n",
    "                         'Hydro MW': np.int64,\n",
    "                         'Gas MW': np.int64,\n",
    "                         'Wind MW': np.int64,\n",
    "                         'Solar MW': np.float64,\n",
    "                         'Biofuel MW': np.float64,\n",
    "                         'Nuc.+Hyd. MW': np.int64,\n",
    "                         'Total MW': np.int64\n",
    "                        })"
   ]
  },
  {
   "cell_type": "code",
   "execution_count": 10,
   "metadata": {},
   "outputs": [
    {
     "data": {
      "text/html": [
       "<div>\n",
       "<style scoped>\n",
       "    .dataframe tbody tr th:only-of-type {\n",
       "        vertical-align: middle;\n",
       "    }\n",
       "\n",
       "    .dataframe tbody tr th {\n",
       "        vertical-align: top;\n",
       "    }\n",
       "\n",
       "    .dataframe thead th {\n",
       "        text-align: right;\n",
       "    }\n",
       "</style>\n",
       "<table border=\"1\" class=\"dataframe\">\n",
       "  <thead>\n",
       "    <tr style=\"text-align: right;\">\n",
       "      <th></th>\n",
       "      <th>iso8601</th>\n",
       "      <th>Nuclear %</th>\n",
       "      <th>Nuclear MW</th>\n",
       "      <th>Hydro %</th>\n",
       "      <th>Hydro MW</th>\n",
       "      <th>Gas %</th>\n",
       "      <th>Gas MW</th>\n",
       "      <th>Wind %</th>\n",
       "      <th>Wind MW</th>\n",
       "      <th>Solar %</th>\n",
       "      <th>Solar MW</th>\n",
       "      <th>Biofuel %</th>\n",
       "      <th>Biofuel MW</th>\n",
       "      <th>Nuc.+Hyd. %</th>\n",
       "      <th>Nuc.+Hyd. MW</th>\n",
       "      <th>Total MW</th>\n",
       "    </tr>\n",
       "  </thead>\n",
       "  <tbody>\n",
       "    <tr>\n",
       "      <td>220</td>\n",
       "      <td>2018-12-06 10:45:00</td>\n",
       "      <td>56.8</td>\n",
       "      <td>10758</td>\n",
       "      <td>23.7</td>\n",
       "      <td>4492</td>\n",
       "      <td>3.0</td>\n",
       "      <td>575</td>\n",
       "      <td>16.0</td>\n",
       "      <td>3034</td>\n",
       "      <td>0.3</td>\n",
       "      <td>48.0</td>\n",
       "      <td>0.2</td>\n",
       "      <td>36.0</td>\n",
       "      <td>80.5</td>\n",
       "      <td>13250</td>\n",
       "      <td>18943</td>\n",
       "    </tr>\n",
       "  </tbody>\n",
       "</table>\n",
       "</div>"
      ],
      "text/plain": [
       "                iso8601  Nuclear %  Nuclear MW  Hydro %  Hydro MW  Gas %  \\\n",
       "220 2018-12-06 10:45:00       56.8       10758     23.7      4492    3.0   \n",
       "\n",
       "     Gas MW  Wind %  Wind MW  Solar %  Solar MW Biofuel %  Biofuel MW  \\\n",
       "220     575    16.0     3034      0.3      48.0       0.2        36.0   \n",
       "\n",
       "     Nuc.+Hyd. %  Nuc.+Hyd. MW  Total MW  \n",
       "220         80.5         13250     18943  "
      ]
     },
     "execution_count": 10,
     "metadata": {},
     "output_type": "execute_result"
    }
   ],
   "source": [
    "df = df5.dropna()\n",
    "df[df['Nuclear MW'] + df['Hydro MW'] - df['Nuc.+Hyd. MW'] >= 1]"
   ]
  },
  {
   "cell_type": "code",
   "execution_count": 11,
   "metadata": {},
   "outputs": [],
   "source": [
    "df = df5[['Nuclear MW', 'Hydro MW', 'Gas MW', 'Wind MW', 'Solar MW', 'Biofuel MW', 'Total MW']]"
   ]
  },
  {
   "cell_type": "code",
   "execution_count": 12,
   "metadata": {},
   "outputs": [
    {
     "data": {
      "text/html": [
       "<div>\n",
       "<style scoped>\n",
       "    .dataframe tbody tr th:only-of-type {\n",
       "        vertical-align: middle;\n",
       "    }\n",
       "\n",
       "    .dataframe tbody tr th {\n",
       "        vertical-align: top;\n",
       "    }\n",
       "\n",
       "    .dataframe thead th {\n",
       "        text-align: right;\n",
       "    }\n",
       "</style>\n",
       "<table border=\"1\" class=\"dataframe\">\n",
       "  <thead>\n",
       "    <tr style=\"text-align: right;\">\n",
       "      <th></th>\n",
       "      <th>Nuclear MW</th>\n",
       "      <th>Hydro MW</th>\n",
       "      <th>Gas MW</th>\n",
       "      <th>Wind MW</th>\n",
       "      <th>Solar MW</th>\n",
       "      <th>Biofuel MW</th>\n",
       "      <th>Total MW</th>\n",
       "    </tr>\n",
       "  </thead>\n",
       "  <tbody>\n",
       "    <tr>\n",
       "      <td>18</td>\n",
       "      <td>9635</td>\n",
       "      <td>3171</td>\n",
       "      <td>2173</td>\n",
       "      <td>1393</td>\n",
       "      <td>209.0</td>\n",
       "      <td>69.0</td>\n",
       "      <td>15554</td>\n",
       "    </tr>\n",
       "    <tr>\n",
       "      <td>73</td>\n",
       "      <td>10582</td>\n",
       "      <td>3469</td>\n",
       "      <td>683</td>\n",
       "      <td>974</td>\n",
       "      <td>289.0</td>\n",
       "      <td>27.0</td>\n",
       "      <td>15144</td>\n",
       "    </tr>\n",
       "    <tr>\n",
       "      <td>82</td>\n",
       "      <td>10684</td>\n",
       "      <td>3965</td>\n",
       "      <td>431</td>\n",
       "      <td>1567</td>\n",
       "      <td>193.0</td>\n",
       "      <td>135.0</td>\n",
       "      <td>16795</td>\n",
       "    </tr>\n",
       "    <tr>\n",
       "      <td>99</td>\n",
       "      <td>10619</td>\n",
       "      <td>3751</td>\n",
       "      <td>172</td>\n",
       "      <td>1950</td>\n",
       "      <td>251.0</td>\n",
       "      <td>52.0</td>\n",
       "      <td>15038</td>\n",
       "    </tr>\n",
       "    <tr>\n",
       "      <td>139</td>\n",
       "      <td>10509</td>\n",
       "      <td>3357</td>\n",
       "      <td>247</td>\n",
       "      <td>3427</td>\n",
       "      <td>69.0</td>\n",
       "      <td>29.0</td>\n",
       "      <td>17391</td>\n",
       "    </tr>\n",
       "    <tr>\n",
       "      <td>143</td>\n",
       "      <td>10547</td>\n",
       "      <td>4605</td>\n",
       "      <td>1835</td>\n",
       "      <td>457</td>\n",
       "      <td>25.0</td>\n",
       "      <td>28.0</td>\n",
       "      <td>17085</td>\n",
       "    </tr>\n",
       "    <tr>\n",
       "      <td>237</td>\n",
       "      <td>9973</td>\n",
       "      <td>3909</td>\n",
       "      <td>3034</td>\n",
       "      <td>1983</td>\n",
       "      <td>57.0</td>\n",
       "      <td>28.0</td>\n",
       "      <td>18899</td>\n",
       "    </tr>\n",
       "  </tbody>\n",
       "</table>\n",
       "</div>"
      ],
      "text/plain": [
       "     Nuclear MW  Hydro MW  Gas MW  Wind MW  Solar MW  Biofuel MW  Total MW\n",
       "18         9635      3171    2173     1393     209.0        69.0     15554\n",
       "73        10582      3469     683      974     289.0        27.0     15144\n",
       "82        10684      3965     431     1567     193.0       135.0     16795\n",
       "99        10619      3751     172     1950     251.0        52.0     15038\n",
       "139       10509      3357     247     3427      69.0        29.0     17391\n",
       "143       10547      4605    1835      457      25.0        28.0     17085\n",
       "237        9973      3909    3034     1983      57.0        28.0     18899"
      ]
     },
     "execution_count": 12,
     "metadata": {},
     "output_type": "execute_result"
    }
   ],
   "source": [
    "df[df['Nuclear MW'] + df['Hydro MW'] + df['Gas MW'] +\n",
    "   df['Wind MW'] + df['Solar MW'] + df['Biofuel MW'] - df['Total MW'] >= 1]"
   ]
  },
  {
   "cell_type": "markdown",
   "metadata": {},
   "source": [
    "The Nuc.+Hyd. MW and Total MW columns are also derived from the other columns, so we can drop them too."
   ]
  },
  {
   "cell_type": "code",
   "execution_count": null,
   "metadata": {},
   "outputs": [],
   "source": []
  },
  {
   "cell_type": "code",
   "execution_count": 13,
   "metadata": {},
   "outputs": [],
   "source": [
    "target = 'Total MW'\n",
    "X = df4.drop(target, axis=1)\n",
    "y = df4[target]\n",
    "X_train, X_test, y_train, y_test = train_test_split(X, y)"
   ]
  },
  {
   "cell_type": "code",
   "execution_count": 14,
   "metadata": {},
   "outputs": [],
   "source": [
    "mapper = DataFrameMapper([\n",
    "    (['Date'], None), # [CategoricalImputer(), LabelBinarizer()]\n",
    "    (['Day'], None),  # [CategoricalImputer(), LabelBinarizer()]\n",
    "    (['Hour'], None), # [CategoricalImputer(), LabelBinarizer()]\n",
    "    (['Nuclear %', 'Hydro %', 'Gas %', 'Wind %', 'Solar %', 'Biofuel %', 'Nuc.+Hyd. %', 'Nuc.+Hyd. MW', 'Total MW'],\n",
    "     [SimpleImputer(), StandardScaler()]),\n",
    "    (['Nuclear MW', 'Hydro MW', 'Gas MW', 'Wind MW', 'Solar MW', 'Biofuel MW'], [SimpleImputer(), StandardScaler()]),\n",
    "    ([], [SimpleImputer(), StandardScaler()])\n",
    "    ], df_out=True\n",
    ")"
   ]
  },
  {
   "cell_type": "code",
   "execution_count": 15,
   "metadata": {},
   "outputs": [],
   "source": [
    "#Z_train = mapper.fit_transform(X_train)\n",
    "#Z_test = mapper.transform(X_test)"
   ]
  }
 ],
 "metadata": {
  "kernelspec": {
   "display_name": "Python 3",
   "language": "python",
   "name": "python3"
  },
  "language_info": {
   "codemirror_mode": {
    "name": "ipython",
    "version": 3
   },
   "file_extension": ".py",
   "mimetype": "text/x-python",
   "name": "python",
   "nbconvert_exporter": "python",
   "pygments_lexer": "ipython3",
   "version": "3.7.4"
  }
 },
 "nbformat": 4,
 "nbformat_minor": 2
}
