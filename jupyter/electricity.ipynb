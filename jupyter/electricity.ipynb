{
 "cells": [
  {
   "cell_type": "code",
   "execution_count": 1,
   "metadata": {},
   "outputs": [],
   "source": [
    "import pandas as pd\n",
    "import numpy as np\n",
    "from sklearn.model_selection import train_test_split\n",
    "from sklearn.impute import SimpleImputer\n",
    "from sklearn.preprocessing import StandardScaler\n",
    "from sklearn_pandas import DataFrameMapper"
   ]
  },
  {
   "cell_type": "code",
   "execution_count": 2,
   "metadata": {},
   "outputs": [],
   "source": [
    "pd.options.display.max_columns = 40"
   ]
  },
  {
   "cell_type": "markdown",
   "metadata": {},
   "source": [
    "I received some excel files from my father-in-law containing information about electricity consumption in Ontario. He looked up the data [on the web](http://www.webroots.ca/static/ontarioelectricity/ontarioelectricity.html) three times daily and manually entered it into a spreadsheet.  There are three files in xlsx format. File 1 is observations from 2018, file 2 is observations from 2019, and file 3 is 1000 observations starting from August 2018 (approximately 13 months).\n",
    "\n",
    "Loaded files in LibreOffice Calc to preview data. \n",
    "\n",
    "Most date entries are in dd-mmm format but a few are in dd-mmm-yy.\n",
    "\n",
    "Column headers span two rows: row 1 is name and row 2 is units. Header in file 2 is an image instead of text.\n",
    "\n",
    "File 3 contains two sheets with data. Looks like 1st sheet is a copy of the 2018 data and 2nd sheet is combined data from 2018-08-25 through 2019-09-30.\n",
    "\n",
    "I see at least one data entry error (cell F12 in file 1).\n",
    "\n",
    "Files 1 and 3 contain summary statisitics:\n",
    "Three rows of stats at the bottom of the sheet: min, max, and avg of each column.\n",
    "The two rightmost columns show average daily totals per month, and name of the month.\n",
    "\n",
    "![](images/spreadsheet.png)"
   ]
  },
  {
   "cell_type": "markdown",
   "metadata": {},
   "source": [
    "Fixed headers to contain both name and units in one row.\n",
    "\n",
    "Set the format of all the date columns to `yyyy-mm-dd`.\n",
    "\n",
    "Some of the numbers in the data contain commas (cell E6 and all of column R). Fixed by setting excel number format to `0.0` for percent columns and `0` for MW columns.\n",
    "\n",
    "Deleted summary statistics.\n",
    "\n",
    "Exported all four sheets as CSV."
   ]
  },
  {
   "cell_type": "markdown",
   "metadata": {},
   "source": [
    "Diffed the exported csv files. The extra sheet in file 3 is an unchanged copy of the data from file 1. Generated checksums to verify."
   ]
  },
  {
   "cell_type": "code",
   "execution_count": 3,
   "metadata": {},
   "outputs": [
    {
     "name": "stdout",
     "output_type": "stream",
     "text": [
      "1070850776 26838 data/electricity1.csv\r\n",
      "4245893866 90971 data/electricity2.csv\r\n",
      "3911391547 96667 data/electricity3.csv\r\n",
      "1070850776 26838 data/electricity3a.csv\r\n",
      "2750527202 121891 data/electricity4.csv\r\n"
     ]
    }
   ],
   "source": [
    "!diff data/electricity1.csv data/electricity3a.csv\n",
    "!cksum data/*.csv"
   ]
  },
  {
   "cell_type": "code",
   "execution_count": 4,
   "metadata": {},
   "outputs": [],
   "source": [
    "df1 = pd.read_csv('data/electricity1.csv') # 2018 data\n",
    "df2 = pd.read_csv('data/electricity2.csv') # 2019 data\n",
    "df3 = pd.read_csv('data/electricity3.csv') # ~1000 observations starting August 2018"
   ]
  },
  {
   "cell_type": "code",
   "execution_count": 5,
   "metadata": {},
   "outputs": [],
   "source": [
    "df4 = df1.append(df2)\n",
    "df4.to_csv('data/electricity4.csv', index=False) # all data in one file"
   ]
  },
  {
   "cell_type": "code",
   "execution_count": 6,
   "metadata": {},
   "outputs": [
    {
     "name": "stdout",
     "output_type": "stream",
     "text": [
      "(293, 18)\n",
      "(1018, 18)\n",
      "(1075, 18)\n",
      "(1311, 18)\n"
     ]
    }
   ],
   "source": [
    "print(df1.shape)\n",
    "print(df2.shape)\n",
    "print(df3.shape)\n",
    "print(df4.shape)"
   ]
  },
  {
   "cell_type": "markdown",
   "metadata": {},
   "source": [
    "So now we've got all 1311 records in one data frame, `df4`. Let's take a look at these values and see what's up with the percentages. There were no formulas in the excel files so I'm thinking these values may have been calculated by hand, or maybe transcribed from the website. In any case they are probably redundant since we have the actual MW values. Let's check the math to make sure."
   ]
  },
  {
   "cell_type": "code",
   "execution_count": 7,
   "metadata": {},
   "outputs": [],
   "source": [
    "# np.where(condition, [x, y])\n",
    "#df = df4.dropna()\n",
    "#df['Total %'] = df['Nuclear %'] + df['Hydro %'] + df['Gas %'] + df['Wind %'] + df['Solar %'] + df['Biofuel %'] + df['Nuc.+Hyd. %']"
   ]
  },
  {
   "cell_type": "code",
   "execution_count": 8,
   "metadata": {},
   "outputs": [],
   "source": [
    "df = pd.read_csv('data/electricity1.csv', parse_dates={'iso8601': [0, 1, 2]}, \n",
    "                  dtype={'Nuclear %': np.float64,\n",
    "                         'Nuclear MW': np.int64,\n",
    "                         'Hydro %': np.float64,\n",
    "                         'Hydro MW': np.int64,\n",
    "                         'Gas %': np.float64,\n",
    "                         'Gas MW': np.int64,\n",
    "                         'Wind %': np.float64,\n",
    "                         'Wind MW': np.int64,\n",
    "                         'Solar %': np.float64,\n",
    "                         'Solar MW': np.float64,\n",
    "                         'Biofuel %': np.object, # fix me\n",
    "                         'Biofuel MW': np.float64,\n",
    "                         'Nuc.+Hyd. %': np.float64,\n",
    "                         'Nuc.+Hyd. MW': np.int64,\n",
    "                         'Total MW': np.int64\n",
    "                        })"
   ]
  },
  {
   "cell_type": "code",
   "execution_count": 9,
   "metadata": {},
   "outputs": [],
   "source": [
    "df['Total %'] = df['Nuclear %'] + df['Hydro %'] + df['Gas %'] + df['Wind %'] + df['Solar %']"
   ]
  },
  {
   "cell_type": "code",
   "execution_count": 10,
   "metadata": {},
   "outputs": [
    {
     "data": {
      "text/html": [
       "<div>\n",
       "<style scoped>\n",
       "    .dataframe tbody tr th:only-of-type {\n",
       "        vertical-align: middle;\n",
       "    }\n",
       "\n",
       "    .dataframe tbody tr th {\n",
       "        vertical-align: top;\n",
       "    }\n",
       "\n",
       "    .dataframe thead th {\n",
       "        text-align: right;\n",
       "    }\n",
       "</style>\n",
       "<table border=\"1\" class=\"dataframe\">\n",
       "  <thead>\n",
       "    <tr style=\"text-align: right;\">\n",
       "      <th></th>\n",
       "      <th>iso8601</th>\n",
       "      <th>Nuclear %</th>\n",
       "      <th>Nuclear MW</th>\n",
       "      <th>Hydro %</th>\n",
       "      <th>Hydro MW</th>\n",
       "      <th>Gas %</th>\n",
       "      <th>Gas MW</th>\n",
       "      <th>Wind %</th>\n",
       "      <th>Wind MW</th>\n",
       "      <th>Solar %</th>\n",
       "      <th>Solar MW</th>\n",
       "      <th>Biofuel %</th>\n",
       "      <th>Biofuel MW</th>\n",
       "      <th>Nuc.+Hyd. %</th>\n",
       "      <th>Nuc.+Hyd. MW</th>\n",
       "      <th>Total MW</th>\n",
       "      <th>Total %</th>\n",
       "    </tr>\n",
       "  </thead>\n",
       "  <tbody>\n",
       "    <tr>\n",
       "      <td>0</td>\n",
       "      <td>2018-08-25 13:45:00</td>\n",
       "      <td>61.0</td>\n",
       "      <td>11017</td>\n",
       "      <td>17.2</td>\n",
       "      <td>3106</td>\n",
       "      <td>6.2</td>\n",
       "      <td>1120</td>\n",
       "      <td>14.5</td>\n",
       "      <td>2619</td>\n",
       "      <td>2.0</td>\n",
       "      <td>361.0</td>\n",
       "      <td>NaN</td>\n",
       "      <td>NaN</td>\n",
       "      <td>68.2</td>\n",
       "      <td>14123</td>\n",
       "      <td>18060</td>\n",
       "      <td>100.9</td>\n",
       "    </tr>\n",
       "    <tr>\n",
       "      <td>1</td>\n",
       "      <td>2018-08-25 20:45:00</td>\n",
       "      <td>60.9</td>\n",
       "      <td>11084</td>\n",
       "      <td>22.0</td>\n",
       "      <td>4004</td>\n",
       "      <td>5.6</td>\n",
       "      <td>1019</td>\n",
       "      <td>11.5</td>\n",
       "      <td>2093</td>\n",
       "      <td>0.0</td>\n",
       "      <td>NaN</td>\n",
       "      <td>NaN</td>\n",
       "      <td>NaN</td>\n",
       "      <td>82.9</td>\n",
       "      <td>15088</td>\n",
       "      <td>18200</td>\n",
       "      <td>100.0</td>\n",
       "    </tr>\n",
       "    <tr>\n",
       "      <td>2</td>\n",
       "      <td>2018-08-26 08:45:00</td>\n",
       "      <td>72.3</td>\n",
       "      <td>11058</td>\n",
       "      <td>18.7</td>\n",
       "      <td>2860</td>\n",
       "      <td>4.5</td>\n",
       "      <td>688</td>\n",
       "      <td>4.5</td>\n",
       "      <td>688</td>\n",
       "      <td>0.0</td>\n",
       "      <td>NaN</td>\n",
       "      <td>NaN</td>\n",
       "      <td>NaN</td>\n",
       "      <td>91.0</td>\n",
       "      <td>13918</td>\n",
       "      <td>15294</td>\n",
       "      <td>100.0</td>\n",
       "    </tr>\n",
       "    <tr>\n",
       "      <td>3</td>\n",
       "      <td>2018-08-26 12:45:00</td>\n",
       "      <td>66.6</td>\n",
       "      <td>11066</td>\n",
       "      <td>19.8</td>\n",
       "      <td>3262</td>\n",
       "      <td>10.3</td>\n",
       "      <td>1709</td>\n",
       "      <td>2.4</td>\n",
       "      <td>396</td>\n",
       "      <td>1.2</td>\n",
       "      <td>192.0</td>\n",
       "      <td>NaN</td>\n",
       "      <td>NaN</td>\n",
       "      <td>86.4</td>\n",
       "      <td>14328</td>\n",
       "      <td>16625</td>\n",
       "      <td>100.3</td>\n",
       "    </tr>\n",
       "    <tr>\n",
       "      <td>4</td>\n",
       "      <td>2018-08-26 16:45:00</td>\n",
       "      <td>60.1</td>\n",
       "      <td>11047</td>\n",
       "      <td>20.0</td>\n",
       "      <td>3674</td>\n",
       "      <td>16.0</td>\n",
       "      <td>2948</td>\n",
       "      <td>2.5</td>\n",
       "      <td>466</td>\n",
       "      <td>1.3</td>\n",
       "      <td>238.0</td>\n",
       "      <td>NaN</td>\n",
       "      <td>NaN</td>\n",
       "      <td>80.1</td>\n",
       "      <td>14721</td>\n",
       "      <td>18373</td>\n",
       "      <td>99.9</td>\n",
       "    </tr>\n",
       "  </tbody>\n",
       "</table>\n",
       "</div>"
      ],
      "text/plain": [
       "              iso8601  Nuclear %  Nuclear MW  Hydro %  Hydro MW  Gas %  \\\n",
       "0 2018-08-25 13:45:00       61.0       11017     17.2      3106    6.2   \n",
       "1 2018-08-25 20:45:00       60.9       11084     22.0      4004    5.6   \n",
       "2 2018-08-26 08:45:00       72.3       11058     18.7      2860    4.5   \n",
       "3 2018-08-26 12:45:00       66.6       11066     19.8      3262   10.3   \n",
       "4 2018-08-26 16:45:00       60.1       11047     20.0      3674   16.0   \n",
       "\n",
       "   Gas MW  Wind %  Wind MW  Solar %  Solar MW Biofuel %  Biofuel MW  \\\n",
       "0    1120    14.5     2619      2.0     361.0       NaN         NaN   \n",
       "1    1019    11.5     2093      0.0       NaN       NaN         NaN   \n",
       "2     688     4.5      688      0.0       NaN       NaN         NaN   \n",
       "3    1709     2.4      396      1.2     192.0       NaN         NaN   \n",
       "4    2948     2.5      466      1.3     238.0       NaN         NaN   \n",
       "\n",
       "   Nuc.+Hyd. %  Nuc.+Hyd. MW  Total MW  Total %  \n",
       "0         68.2         14123     18060    100.9  \n",
       "1         82.9         15088     18200    100.0  \n",
       "2         91.0         13918     15294    100.0  \n",
       "3         86.4         14328     16625    100.3  \n",
       "4         80.1         14721     18373     99.9  "
      ]
     },
     "execution_count": 10,
     "metadata": {},
     "output_type": "execute_result"
    }
   ],
   "source": [
    "df.head()"
   ]
  },
  {
   "cell_type": "code",
   "execution_count": null,
   "metadata": {},
   "outputs": [],
   "source": []
  },
  {
   "cell_type": "code",
   "execution_count": 11,
   "metadata": {},
   "outputs": [],
   "source": [
    "target = 'Total MW'\n",
    "X = df4.drop(target, axis=1)\n",
    "y = df4[target]\n",
    "X_train, X_test, y_train, y_test = train_test_split(X, y)"
   ]
  },
  {
   "cell_type": "code",
   "execution_count": 12,
   "metadata": {},
   "outputs": [],
   "source": [
    "mapper = DataFrameMapper([\n",
    "    (['Date'], None), # [CategoricalImputer(), LabelBinarizer()]\n",
    "    (['Day'], None),  # [CategoricalImputer(), LabelBinarizer()]\n",
    "    (['Hour'], None), # [CategoricalImputer(), LabelBinarizer()]\n",
    "    (['Nuclear %', 'Hydro %', 'Gas %', 'Wind %', 'Solar %', 'Biofuel %', 'Nuc.+Hyd. %', 'Nuc.+Hyd. MW', 'Total MW'],\n",
    "     [SimpleImputer(), StandardScaler()]),\n",
    "    (['Nuclear MW', 'Hydro MW', 'Gas MW', 'Wind MW', 'Solar MW', 'Biofuel MW'], [SimpleImputer(), StandardScaler()]),\n",
    "    ([], [SimpleImputer(), StandardScaler()])\n",
    "    ], df_out=True\n",
    ")"
   ]
  },
  {
   "cell_type": "code",
   "execution_count": 13,
   "metadata": {},
   "outputs": [],
   "source": [
    "#Z_train = mapper.fit_transform(X_train)\n",
    "#Z_test = mapper.transform(X_test)"
   ]
  }
 ],
 "metadata": {
  "kernelspec": {
   "display_name": "Python 3",
   "language": "python",
   "name": "python3"
  },
  "language_info": {
   "codemirror_mode": {
    "name": "ipython",
    "version": 3
   },
   "file_extension": ".py",
   "mimetype": "text/x-python",
   "name": "python",
   "nbconvert_exporter": "python",
   "pygments_lexer": "ipython3",
   "version": "3.7.4"
  }
 },
 "nbformat": 4,
 "nbformat_minor": 2
}
