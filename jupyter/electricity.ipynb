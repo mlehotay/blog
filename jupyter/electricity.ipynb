{
 "cells": [
  {
   "cell_type": "code",
   "execution_count": 1,
   "metadata": {},
   "outputs": [],
   "source": [
    "import pandas as pd\n",
    "import numpy as np\n",
    "from sklearn.model_selection import train_test_split\n",
    "from sklearn.impute import SimpleImputer\n",
    "from sklearn.preprocessing import StandardScaler\n",
    "from sklearn_pandas import DataFrameMapper"
   ]
  },
  {
   "cell_type": "code",
   "execution_count": 2,
   "metadata": {},
   "outputs": [],
   "source": [
    "pd.options.display.max_columns = 40"
   ]
  },
  {
   "cell_type": "markdown",
   "metadata": {},
   "source": [
    "I received some excel files from my father-in-law containing information about electricity consumption in Ontario. He looked up the data [on the web](http://www.webroots.ca/static/ontarioelectricity/ontarioelectricity.html) three times daily and manually entered it into a spreadsheet.  There are three files in xlsx format. File 1 is observations from 2018, file 2 is observations from 2019, and file 3 is 1000 observations starting from August 2018 (approximately 13 months).\n",
    "\n",
    "Loaded files in LibreOffice Calc to preview data. \n",
    "\n",
    "Most date entries are in dd-mmm format but a few are in dd-mmm-yy.\n",
    "\n",
    "Column headers span two rows: row 1 is name and row 2 is units. Header in file 2 is an image instead of text.\n",
    "\n",
    "File 3 contains two sheets with data. Looks like 1st sheet is a copy of the 2018 data and 2nd sheet is combined data from 2018-08-25 through 2019-09-30.\n",
    "\n",
    "I see at least one data entry error (cell F12 in file 1).\n",
    "\n",
    "Files 1 and 3 contain summary statisitics:\n",
    "Three rows of stats at the bottom of the sheet: min, max, and avg of each column.\n",
    "The two rightmost columns show average daily totals per month, and name of the month.\n",
    "\n",
    "![](images/spreadsheet.png)"
   ]
  },
  {
   "cell_type": "markdown",
   "metadata": {},
   "source": [
    "Fixed headers to contain both name and units in one row.\n",
    "\n",
    "Set the format of all the date columns to yyyy-mm-dd.\n",
    "\n",
    "Some of the numbers in the data contain commas (cell E6 and all of column R). Fixed by setting excel number format to 0.0 for percent columns and 0 for MW columns.\n",
    "\n",
    "Deleted summary statistics.\n",
    "\n",
    "Exported all four sheets as CSV."
   ]
  },
  {
   "cell_type": "markdown",
   "metadata": {},
   "source": [
    "Diffed the exported csv files. The extra sheet in file 3 is an unchanged copy of the data from file 1. Generated checksums to verify."
   ]
  },
  {
   "cell_type": "code",
   "execution_count": 3,
   "metadata": {},
   "outputs": [
    {
     "name": "stdout",
     "output_type": "stream",
     "text": [
      "1070850776 26838 data/electricity1.csv\r\n",
      "4245893866 90971 data/electricity2.csv\r\n",
      "3911391547 96667 data/electricity3.csv\r\n",
      "1070850776 26838 data/electricity3a.csv\r\n",
      "2750527202 121891 data/electricity4.csv\r\n"
     ]
    }
   ],
   "source": [
    "!diff data/electricity1.csv data/electricity3a.csv\n",
    "!cksum data/*.csv"
   ]
  },
  {
   "cell_type": "code",
   "execution_count": 4,
   "metadata": {},
   "outputs": [],
   "source": [
    "df1 = pd.read_csv('data/electricity1.csv') # 2018 data\n",
    "df2 = pd.read_csv('data/electricity2.csv') # 2019 data\n",
    "df3 = pd.read_csv('data/electricity3.csv') # ~1000 observations starting August 2018"
   ]
  },
  {
   "cell_type": "code",
   "execution_count": 5,
   "metadata": {},
   "outputs": [],
   "source": [
    "df4 = df1.append(df2)\n",
    "df4.to_csv('data/electricity4.csv', index=False) # all data in one file"
   ]
  },
  {
   "cell_type": "code",
   "execution_count": 6,
   "metadata": {},
   "outputs": [
    {
     "name": "stdout",
     "output_type": "stream",
     "text": [
      "(293, 18)\n",
      "(1018, 18)\n",
      "(1075, 18)\n",
      "(1311, 18)\n"
     ]
    }
   ],
   "source": [
    "print(df1.shape)\n",
    "print(df2.shape)\n",
    "print(df3.shape)\n",
    "print(df4.shape)"
   ]
  },
  {
   "cell_type": "code",
   "execution_count": 7,
   "metadata": {},
   "outputs": [],
   "source": [
    "target = 'Total MW'\n",
    "X = df4.drop(target, axis=1)\n",
    "y = df4[target]\n",
    "X_train, X_test, y_train, y_test = train_test_split(X, y)"
   ]
  },
  {
   "cell_type": "code",
   "execution_count": 8,
   "metadata": {},
   "outputs": [],
   "source": [
    "mapper = DataFrameMapper([\n",
    "    (['Date'], None), # [CategoricalImputer(), LabelBinarizer()]\n",
    "    (['Day'], None),  # [CategoricalImputer(), LabelBinarizer()]\n",
    "    (['Hour'], None), # [CategoricalImputer(), LabelBinarizer()]\n",
    "    (['Nuclear %'], [SimpleImputer(), StandardScaler()]),\n",
    "    (['Nuclear MW'], [SimpleImputer(), StandardScaler()]),\n",
    "    (['Hydro %'], [SimpleImputer(), StandardScaler()]),\n",
    "    (['Hydro MW'], [SimpleImputer(), StandardScaler()]),\n",
    "    (['Gas %'], [SimpleImputer(), StandardScaler()]),\n",
    "    (['Gas MW'], [SimpleImputer(), StandardScaler()]),\n",
    "    (['Wind %'], [SimpleImputer(), StandardScaler()]),\n",
    "    (['Wind MW'], [SimpleImputer(), StandardScaler()]),\n",
    "    (['Solar %'], [SimpleImputer(), StandardScaler()]),\n",
    "    (['Solar MW'], [SimpleImputer(), StandardScaler()]),\n",
    "    (['Biofuel %'], [SimpleImputer(), StandardScaler()]),\n",
    "    (['Biofuel MW'], [SimpleImputer(), StandardScaler()]),\n",
    "    (['Nuc.+Hyd. %'], [SimpleImputer(), StandardScaler()]),\n",
    "    (['Nuc.+Hyd. MW'], [SimpleImputer(), StandardScaler()]),\n",
    "    (['Total MW'], [SimpleImputer(), StandardScaler()])\n",
    "    ], df_out=True\n",
    ")"
   ]
  },
  {
   "cell_type": "code",
   "execution_count": null,
   "metadata": {},
   "outputs": [],
   "source": []
  },
  {
   "cell_type": "code",
   "execution_count": 9,
   "metadata": {},
   "outputs": [],
   "source": [
    "#Z_train = mapper.fit_transform(X_train)\n",
    "#Z_test = mapper.transform(X_test)"
   ]
  }
 ],
 "metadata": {
  "kernelspec": {
   "display_name": "Python 3",
   "language": "python",
   "name": "python3"
  },
  "language_info": {
   "codemirror_mode": {
    "name": "ipython",
    "version": 3
   },
   "file_extension": ".py",
   "mimetype": "text/x-python",
   "name": "python",
   "nbconvert_exporter": "python",
   "pygments_lexer": "ipython3",
   "version": "3.7.4"
  }
 },
 "nbformat": 4,
 "nbformat_minor": 2
}
