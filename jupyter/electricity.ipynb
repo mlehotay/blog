{
 "cells": [
  {
   "cell_type": "markdown",
   "metadata": {},
   "source": [
    "I received some excel files from a retired geochemist containing information about electricity consumption in Ontario. He looked up the data [on the web](http://www.webroots.ca/static/ontarioelectricity/ontarioelectricity.html) three times daily and manually entered it into a spreadsheet.  There are three files in xlsx format. File 1 is observations from 2018, file 2 is observations from 2019, and file 3 is 1000 observations starting from August 2018 (approximately 13 months).\n",
    "\n",
    "Loaded files in LibreOffice Calc to preview data. \n",
    "\n",
    "Most date entries are in dd-mmm format but a few are in dd-mmm-yy.\n",
    "\n",
    "Column headers span two rows: row 1 is name and row 2 is units. Header in file 2 is an image instead of text.\n",
    "\n",
    "File 3 contains two sheets with data. Looks like 1st sheet is a copy of the 2018 data and 2nd sheet is combined data from 2018-08-25 through 2019-09-30.\n",
    "\n",
    "I see at least one data entry error (cell F12 in file 1).\n",
    "\n",
    "Files 1 and 3 contain summary statisitics:\n",
    "Three rows of stats at the bottom of the sheet: min, max, and avg of each column.\n",
    "The two rightmost columns show average daily totals per month, and name of the month.\n",
    "\n",
    "![](images/spreadsheet.png)"
   ]
  },
  {
   "cell_type": "markdown",
   "metadata": {},
   "source": [
    "Fixed headers to contain both name and units in one row.\n",
    "\n",
    "Set the format of all the date columns to yyyy-mm-dd.\n",
    "\n",
    "Deleted summary statistics.\n",
    "\n",
    "Exported all four sheets as CSV."
   ]
  },
  {
   "cell_type": "markdown",
   "metadata": {},
   "source": [
    "Diffed the exported csv files. The extra sheet in file 3 is an unchanged copy of the data from file 1. Generated checksums to verify."
   ]
  },
  {
   "cell_type": "code",
   "execution_count": 1,
   "metadata": {},
   "outputs": [
    {
     "name": "stdout",
     "output_type": "stream",
     "text": [
      "2600525449 28136 data/electricity1.csv\r\n",
      "465144111 96733 data/electricity2.csv\r\n",
      "2815554452 102371 data/electricity3.csv\r\n",
      "2600525449 28136 data/electricity3a.csv\r\n",
      "976740961 131569 data/electricity4.csv\r\n"
     ]
    }
   ],
   "source": [
    "!diff data/electricity1.csv data/electricity3a.csv\n",
    "!cksum data/*.csv"
   ]
  },
  {
   "cell_type": "code",
   "execution_count": 2,
   "metadata": {},
   "outputs": [],
   "source": [
    "import pandas as pd\n",
    "pd.options.display.max_columns = 40"
   ]
  },
  {
   "cell_type": "code",
   "execution_count": 3,
   "metadata": {},
   "outputs": [],
   "source": [
    "df1 = pd.read_csv('data/electricity1.csv')\n",
    "df2 = pd.read_csv('data/electricity2.csv')\n",
    "df3 = pd.read_csv('data/electricity3.csv')"
   ]
  },
  {
   "cell_type": "code",
   "execution_count": 4,
   "metadata": {},
   "outputs": [],
   "source": [
    "df4 = df1.append(df2)\n",
    "df4.to_csv('data/electricity4.csv', index=False)"
   ]
  }
 ],
 "metadata": {
  "kernelspec": {
   "display_name": "Python 3",
   "language": "python",
   "name": "python3"
  },
  "language_info": {
   "codemirror_mode": {
    "name": "ipython",
    "version": 3
   },
   "file_extension": ".py",
   "mimetype": "text/x-python",
   "name": "python",
   "nbconvert_exporter": "python",
   "pygments_lexer": "ipython3",
   "version": "3.7.4"
  }
 },
 "nbformat": 4,
 "nbformat_minor": 2
}
