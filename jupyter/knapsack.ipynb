{
 "cells": [
  {
   "cell_type": "markdown",
   "metadata": {},
   "source": [
    "Title: Knapsack Problem\n",
    "Date: 2020-01-26 22:43\n",
    "Modified: 2020-01-27 13:06\n",
    "Category: Data Science\n",
    "Tags: genetic\n",
    "Slug: knapsack\n",
    "Status: published"
   ]
  },
  {
   "cell_type": "markdown",
   "metadata": {},
   "source": [
    "This is a draft version of the blog post. The final version should be up tonight. -ML"
   ]
  },
  {
   "cell_type": "code",
   "execution_count": 1,
   "metadata": {},
   "outputs": [],
   "source": [
    "import random\n",
    "import arena # https://github.com/mlehotay/arena.git"
   ]
  },
  {
   "cell_type": "code",
   "execution_count": 2,
   "metadata": {},
   "outputs": [],
   "source": [
    "NUM_ITEMS = 5\n",
    "MAX_WEIGHT = 100\n",
    "MAX_VALUE = 100\n",
    "\n",
    "CAPACITY = 250\n",
    "\n",
    "POPULATION_SIZE = 10\n",
    "MUTATION_RATE = 0.20"
   ]
  },
  {
   "cell_type": "code",
   "execution_count": 3,
   "metadata": {},
   "outputs": [],
   "source": [
    "class Knapsack:\n",
    "    def __init__(self, item_list, mask=None):\n",
    "        if mask == None:\n",
    "            mask = [False]*NUM_ITEMS     \n",
    "        self.mask = mask\n",
    "        self.items = [item for (item, selected) in zip(item_list, mask) if selected]\n",
    "        self.weight = sum([item['weight'] for item in self.items])\n",
    "        self.value = sum([item['value'] for item in self.items])\n",
    "\n",
    "    def __repr__(self):\n",
    "        return f'Knapsack({self.mask}, weight:{self.weight}, value:{self.value})'"
   ]
  },
  {
   "cell_type": "code",
   "execution_count": 4,
   "metadata": {},
   "outputs": [],
   "source": [
    "def mutate(knapsack, item_list):\n",
    "    if random.random() < MUTATION_RATE:\n",
    "        i = random.randint(0, NUM_ITEMS-1)\n",
    "        new_mask = knapsack.mask\n",
    "        new_mask[i] = not new_mask[i]    \n",
    "        knapsack = Knapsack(item_list, new_mask)\n",
    "    return knapsack"
   ]
  },
  {
   "cell_type": "code",
   "execution_count": 5,
   "metadata": {},
   "outputs": [],
   "source": [
    "def crossover(knapsack1, knapsack2):\n",
    "    pass"
   ]
  },
  {
   "cell_type": "code",
   "execution_count": 6,
   "metadata": {},
   "outputs": [
    {
     "data": {
      "text/plain": [
       "[{'weight': 2, 'value': 91},\n",
       " {'weight': 83, 'value': 11},\n",
       " {'weight': 79, 'value': 71},\n",
       " {'weight': 90, 'value': 87},\n",
       " {'weight': 63, 'value': 78}]"
      ]
     },
     "execution_count": 6,
     "metadata": {},
     "output_type": "execute_result"
    }
   ],
   "source": [
    "treasure = [{\n",
    "    'weight': random.randint(1, MAX_WEIGHT),\n",
    "    'value': random.randint(1, MAX_VALUE)\n",
    "    } for _ in range(0, NUM_ITEMS)\n",
    "]\n",
    "treasure"
   ]
  },
  {
   "cell_type": "code",
   "execution_count": 7,
   "metadata": {},
   "outputs": [],
   "source": [
    "population = [Knapsack(treasure) for _ in range(0, POPULATION_SIZE)]"
   ]
  },
  {
   "cell_type": "code",
   "execution_count": 8,
   "metadata": {},
   "outputs": [
    {
     "data": {
      "text/plain": [
       "[Knapsack([False, False, False, False, False], weight:0, value:0),\n",
       " Knapsack([False, False, False, False, False], weight:0, value:0),\n",
       " Knapsack([False, False, False, False, False], weight:0, value:0),\n",
       " Knapsack([False, False, False, False, False], weight:0, value:0),\n",
       " Knapsack([False, False, False, False, False], weight:0, value:0),\n",
       " Knapsack([False, False, False, False, False], weight:0, value:0),\n",
       " Knapsack([False, False, False, False, False], weight:0, value:0),\n",
       " Knapsack([False, False, False, False, False], weight:0, value:0),\n",
       " Knapsack([False, False, False, False, False], weight:0, value:0),\n",
       " Knapsack([False, False, False, False, False], weight:0, value:0)]"
      ]
     },
     "execution_count": 8,
     "metadata": {},
     "output_type": "execute_result"
    }
   ],
   "source": [
    "population"
   ]
  },
  {
   "cell_type": "code",
   "execution_count": 9,
   "metadata": {},
   "outputs": [],
   "source": [
    "def selection(survival_size, weight):\n",
    "    pass"
   ]
  },
  {
   "cell_type": "code",
   "execution_count": null,
   "metadata": {},
   "outputs": [],
   "source": []
  }
 ],
 "metadata": {
  "kernelspec": {
   "display_name": "Python 3",
   "language": "python",
   "name": "python3"
  },
  "language_info": {
   "codemirror_mode": {
    "name": "ipython",
    "version": 3
   },
   "file_extension": ".py",
   "mimetype": "text/x-python",
   "name": "python",
   "nbconvert_exporter": "python",
   "pygments_lexer": "ipython3",
   "version": "3.7.4"
  }
 },
 "nbformat": 4,
 "nbformat_minor": 2
}
