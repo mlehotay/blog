{
 "cells": [
  {
   "cell_type": "markdown",
   "metadata": {},
   "source": [
    "Title: Knapsack Problem\n",
    "Date: 2020-01-26 22:43\n",
    "Modified: 2020-01-26 22:44\n",
    "Category: Data Science\n",
    "Tags: genetic\n",
    "Slug: knapsack\n",
    "Status: draft"
   ]
  },
  {
   "cell_type": "code",
   "execution_count": 1,
   "metadata": {},
   "outputs": [],
   "source": [
    "import random\n",
    "import arena # https://github.com/mlehotay/arena.git"
   ]
  },
  {
   "cell_type": "code",
   "execution_count": 2,
   "metadata": {},
   "outputs": [],
   "source": [
    "NUM_ITEMS = 5\n",
    "MAX_WEIGHT = 100\n",
    "MAX_VALUE = 100\n",
    "CAPACITY = 250"
   ]
  },
  {
   "cell_type": "code",
   "execution_count": 11,
   "metadata": {},
   "outputs": [],
   "source": [
    "class Knapsack:\n",
    "    def __init__(self, item_list, mask):\n",
    "        self.items = [item for (item, selected) in zip(item_list, mask) if selected]\n",
    "        self.mask = mask\n",
    "        self.weight = sum([item['weight'] for item in self.items])\n",
    "        self.value = sum([item['value'] for item in self.items])\n",
    "\n",
    "    def __repr__(self):\n",
    "        return f'Knapsack({self.mask}, weight:{self.weight}, value:{self.value})'"
   ]
  },
  {
   "cell_type": "code",
   "execution_count": 4,
   "metadata": {},
   "outputs": [],
   "source": [
    "treasure = []\n",
    "for _ in range(0, NUM_ITEMS):\n",
    "    item = { 'weight': random.randint(1, MAX_WEIGHT), 'value': random.randint(1, MAX_VALUE) }\n",
    "    treasure.append(item)"
   ]
  },
  {
   "cell_type": "code",
   "execution_count": 5,
   "metadata": {},
   "outputs": [
    {
     "data": {
      "text/plain": [
       "[{'weight': 31, 'value': 5},\n",
       " {'weight': 4, 'value': 38},\n",
       " {'weight': 94, 'value': 8},\n",
       " {'weight': 76, 'value': 90},\n",
       " {'weight': 21, 'value': 77}]"
      ]
     },
     "execution_count": 5,
     "metadata": {},
     "output_type": "execute_result"
    }
   ],
   "source": [
    "treasure"
   ]
  },
  {
   "cell_type": "code",
   "execution_count": 14,
   "metadata": {},
   "outputs": [],
   "source": [
    "k = Knapsack(treasure, [True]*NUM_ITEMS)"
   ]
  },
  {
   "cell_type": "code",
   "execution_count": 15,
   "metadata": {},
   "outputs": [
    {
     "data": {
      "text/plain": [
       "Knapsack([True, True, True, True, True], weight:226, value:218)"
      ]
     },
     "execution_count": 15,
     "metadata": {},
     "output_type": "execute_result"
    }
   ],
   "source": [
    "k"
   ]
  },
  {
   "cell_type": "code",
   "execution_count": null,
   "metadata": {},
   "outputs": [],
   "source": []
  }
 ],
 "metadata": {
  "kernelspec": {
   "display_name": "Python 3",
   "language": "python",
   "name": "python3"
  },
  "language_info": {
   "codemirror_mode": {
    "name": "ipython",
    "version": 3
   },
   "file_extension": ".py",
   "mimetype": "text/x-python",
   "name": "python",
   "nbconvert_exporter": "python",
   "pygments_lexer": "ipython3",
   "version": "3.7.4"
  }
 },
 "nbformat": 4,
 "nbformat_minor": 2
}
