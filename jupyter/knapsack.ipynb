{
 "cells": [
  {
   "cell_type": "markdown",
   "metadata": {},
   "source": [
    "Title: Solving the Knapsack Problem with a Genetic Algorithim\n",
    "Date: 2020-01-26 22:43\n",
    "Modified: 2020-01-28 03:34\n",
    "Category: Data Science\n",
    "Tags: genetic-algorithm, combinatorics, computational-complexity\n",
    "Slug: knapsack\n",
    "Status: published"
   ]
  },
  {
   "cell_type": "markdown",
   "metadata": {},
   "source": [
    "Here's the code. I'll write the description in a day or two. I still need to add weapons and armor to the treasure chest and update the fitness calculations to include the probability defeating the troll."
   ]
  },
  {
   "cell_type": "markdown",
   "metadata": {},
   "source": [
    "### Treasure"
   ]
  },
  {
   "cell_type": "code",
   "execution_count": 1,
   "metadata": {},
   "outputs": [],
   "source": [
    "import random\n",
    "import arena # https://github.com/mlehotay/arena.git"
   ]
  },
  {
   "cell_type": "code",
   "execution_count": 2,
   "metadata": {},
   "outputs": [],
   "source": [
    "NUM_ITEMS = 20 # number of items in treasure chest\n",
    "MAX_WEIGHT = 100 # max weight of a single treasure item\n",
    "MAX_VALUE = 100 # max value of a single treasure item"
   ]
  },
  {
   "cell_type": "code",
   "execution_count": 3,
   "metadata": {},
   "outputs": [],
   "source": [
    "treasure_names = ['gold', 'gem', 'ring', 'amulet', 'potion', 'scroll', 'wand', 'spellbook']\n",
    "treasure = [{\n",
    "        'description': random.choice(treasure_names),\n",
    "        'weight': random.randint(1, MAX_WEIGHT),\n",
    "        'value': random.randint(1, MAX_VALUE)\n",
    "    } for _ in range(0, NUM_ITEMS)\n",
    "]"
   ]
  },
  {
   "cell_type": "code",
   "execution_count": 4,
   "metadata": {},
   "outputs": [
    {
     "data": {
      "text/plain": [
       "[{'description': 'scroll', 'weight': 17, 'value': 89},\n",
       " {'description': 'ring', 'weight': 44, 'value': 75},\n",
       " {'description': 'gold', 'weight': 92, 'value': 98},\n",
       " {'description': 'scroll', 'weight': 100, 'value': 20},\n",
       " {'description': 'spellbook', 'weight': 56, 'value': 93},\n",
       " {'description': 'ring', 'weight': 26, 'value': 75},\n",
       " {'description': 'potion', 'weight': 47, 'value': 98},\n",
       " {'description': 'potion', 'weight': 30, 'value': 62},\n",
       " {'description': 'gem', 'weight': 16, 'value': 7},\n",
       " {'description': 'gem', 'weight': 51, 'value': 30},\n",
       " {'description': 'scroll', 'weight': 28, 'value': 46},\n",
       " {'description': 'amulet', 'weight': 74, 'value': 20},\n",
       " {'description': 'spellbook', 'weight': 73, 'value': 7},\n",
       " {'description': 'potion', 'weight': 19, 'value': 93},\n",
       " {'description': 'amulet', 'weight': 71, 'value': 91},\n",
       " {'description': 'amulet', 'weight': 57, 'value': 71},\n",
       " {'description': 'gold', 'weight': 7, 'value': 6},\n",
       " {'description': 'potion', 'weight': 43, 'value': 71},\n",
       " {'description': 'potion', 'weight': 23, 'value': 78},\n",
       " {'description': 'gold', 'weight': 25, 'value': 83}]"
      ]
     },
     "execution_count": 4,
     "metadata": {},
     "output_type": "execute_result"
    }
   ],
   "source": [
    "treasure"
   ]
  },
  {
   "cell_type": "markdown",
   "metadata": {},
   "source": [
    "### Knapsack"
   ]
  },
  {
   "cell_type": "code",
   "execution_count": 5,
   "metadata": {},
   "outputs": [],
   "source": [
    "CAPACITY = 200 # max weight the knapsack can hold"
   ]
  },
  {
   "cell_type": "code",
   "execution_count": 6,
   "metadata": {},
   "outputs": [],
   "source": [
    "class Knapsack:\n",
    "    def __init__(self, item_list, mask=None):\n",
    "        if mask == None:\n",
    "            mask = [False]*NUM_ITEMS # new knapsacks start out empty\n",
    "        self.mask = mask\n",
    "        self.items = [item for (item, selected) in zip(item_list, mask) if selected]\n",
    "        self.weight = sum([item['weight'] for item in self.items])\n",
    "        self.value = sum([item['value'] for item in self.items])\n",
    "        self.valid = self.weight <= CAPACITY\n",
    "\n",
    "    def __repr__(self):\n",
    "        mask_string = ''.join([str(int(flag)) for flag in self.mask])\n",
    "        return f'<knapsack mask:{mask_string} weight:{self.weight} value:{self.value}>'\n",
    "    \n",
    "    def print_contents(self):\n",
    "        print(self)\n",
    "        for item in self.items:\n",
    "            print(f\"  {item['description']} weight:{item['weight']} value:{item['value']}\")"
   ]
  },
  {
   "cell_type": "markdown",
   "metadata": {},
   "source": [
    "### Genetic Algorithm"
   ]
  },
  {
   "cell_type": "code",
   "execution_count": 7,
   "metadata": {},
   "outputs": [],
   "source": [
    "# genetic algorithm parameters\n",
    "POPULATION_SIZE = 100 # number of individuals in population\n",
    "MUTATION_RATE = 0.20 # probability that an individual mutates\n",
    "SURVIVAL_RATE = 0.50 # percentage of generation that survives to have children\n",
    "NUM_GENERATIONS = 100 # number of generations to simulate"
   ]
  },
  {
   "cell_type": "code",
   "execution_count": 8,
   "metadata": {},
   "outputs": [],
   "source": [
    "def fitness(knapsack): # survival of the fittest\n",
    "    if knapsack.weight > CAPACITY:\n",
    "        return -1 # illegal knapsacks have negative fitness\n",
    "    else:\n",
    "        return knapsack.value"
   ]
  },
  {
   "cell_type": "code",
   "execution_count": 9,
   "metadata": {},
   "outputs": [],
   "source": [
    "def mutate(knapsack, item_list):\n",
    "    if random.random() < MUTATION_RATE:\n",
    "        i = random.randint(0, NUM_ITEMS-1) # randomly select one gene\n",
    "        new_mask = knapsack.mask\n",
    "        new_mask[i] = not new_mask[i] # \"Mutation: it is the key to our evolution.\" -Professor X\n",
    "        knapsack = Knapsack(item_list, new_mask)\n",
    "    return knapsack"
   ]
  },
  {
   "cell_type": "code",
   "execution_count": 10,
   "metadata": {},
   "outputs": [],
   "source": [
    "def crossover(knapsack1, knapsack2, item_list): # combine DNA of parents to make child\n",
    "    child_mask = [random.choice(gene) for gene in zip(knapsack1.mask, knapsack2.mask)]\n",
    "    return Knapsack(item_list, child_mask)"
   ]
  },
  {
   "cell_type": "code",
   "execution_count": 11,
   "metadata": {},
   "outputs": [],
   "source": [
    "def select(population): #  this is where we simulate natural selection\n",
    "    num_survivors = round(POPULATION_SIZE * SURVIVAL_RATE)\n",
    "    population = sorted(population, key=fitness, reverse=True)[:num_survivors]\n",
    "    return population"
   ]
  },
  {
   "cell_type": "code",
   "execution_count": 12,
   "metadata": {},
   "outputs": [],
   "source": [
    "def repopulate(population):\n",
    "    while len(population) < POPULATION_SIZE:\n",
    "        parents = random.sample(population, 2)\n",
    "        child = crossover(parents[0], parents[1], treasure)\n",
    "        population.append(child)\n",
    "        return population"
   ]
  },
  {
   "cell_type": "markdown",
   "metadata": {},
   "source": [
    "### Simulation"
   ]
  },
  {
   "cell_type": "code",
   "execution_count": 13,
   "metadata": {},
   "outputs": [],
   "source": [
    "population = [Knapsack(treasure) for _ in range(0, POPULATION_SIZE)]"
   ]
  },
  {
   "cell_type": "code",
   "execution_count": 14,
   "metadata": {},
   "outputs": [],
   "source": [
    "for _ in range(1, NUM_GENERATIONS):\n",
    "    population = [mutate(k, treasure) for k in population]\n",
    "    population = select(population)\n",
    "    population = repopulate(population)"
   ]
  },
  {
   "cell_type": "code",
   "execution_count": 15,
   "metadata": {
    "scrolled": true
   },
   "outputs": [
    {
     "data": {
      "text/plain": [
       "[<knapsack mask:10000110001000010001 weight:200 value:462>,\n",
       " <knapsack mask:11000101100000000100 weight:176 value:379>,\n",
       " <knapsack mask:00000000011001001011 weight:153 value:336>,\n",
       " <knapsack mask:00000000000001100110 weight:156 value:333>,\n",
       " <knapsack mask:11000100000000001010 weight:117 value:323>,\n",
       " <knapsack mask:01000010010000000100 weight:185 value:274>,\n",
       " <knapsack mask:00000000010001000110 weight:136 value:272>,\n",
       " <knapsack mask:01000000000100000100 weight:161 value:166>,\n",
       " <knapsack mask:00000000011000001010 weight:109 value:160>,\n",
       " <knapsack mask:10000000100000000000 weight:33 value:96>]"
      ]
     },
     "execution_count": 15,
     "metadata": {},
     "output_type": "execute_result"
    }
   ],
   "source": [
    "# all valid individuals in final generation, sorted by fitness\n",
    "population = sorted([k for k in population if k.valid], key=fitness, reverse=True)\n",
    "population"
   ]
  },
  {
   "cell_type": "code",
   "execution_count": 16,
   "metadata": {},
   "outputs": [
    {
     "name": "stdout",
     "output_type": "stream",
     "text": [
      "<knapsack mask:10000110001000010001 weight:200 value:462>\n",
      "  scroll weight:17 value:89\n",
      "  ring weight:26 value:75\n",
      "  potion weight:47 value:98\n",
      "  scroll weight:28 value:46\n",
      "  amulet weight:57 value:71\n",
      "  gold weight:25 value:83\n"
     ]
    }
   ],
   "source": [
    "# details of best solution\n",
    "population[0].print_contents()"
   ]
  },
  {
   "cell_type": "markdown",
   "metadata": {},
   "source": [
    "### Links\n",
    "\n",
    "* [Knapsack problem](https://en.wikipedia.org/wiki/Knapsack_problem)\n",
    "* [Genetic algorithm](https://en.wikipedia.org/wiki/Genetic_algorithm)\n",
    "* [Solving the Knapsack Problem with a Simple Genetic Algorithm](https://www.dataminingapps.com/2017/03/solving-the-knapsack-problem-with-a-simple-genetic-algorithm/)\n",
    "* [Genetic algorithms 1. A simple genetic algorithm](https://pythonhealthcare.org/2018/10/01/94-genetic-algorithms-a-simple-genetic-algorithm/)\n",
    "* [Introduction to Optimization with Genetic Algorithm](https://www.linkedin.com/pulse/introduction-optimization-genetic-algorithm-ahmed-gad/)"
   ]
  }
 ],
 "metadata": {
  "kernelspec": {
   "display_name": "Python 3",
   "language": "python",
   "name": "python3"
  },
  "language_info": {
   "codemirror_mode": {
    "name": "ipython",
    "version": 3
   },
   "file_extension": ".py",
   "mimetype": "text/x-python",
   "name": "python",
   "nbconvert_exporter": "python",
   "pygments_lexer": "ipython3",
   "version": "3.7.4"
  }
 },
 "nbformat": 4,
 "nbformat_minor": 2
}
