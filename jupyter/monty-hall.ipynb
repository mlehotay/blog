{
 "cells": [
  {
   "cell_type": "markdown",
   "metadata": {},
   "source": [
    "Title: Probability Simulation in Python\n",
    "Date: 2019-12-09 08:04\n",
    "Slug: monty-hall"
   ]
  },
  {
   "cell_type": "markdown",
   "metadata": {},
   "source": [
    "## Probability Simulation in Python"
   ]
  },
  {
   "cell_type": "markdown",
   "metadata": {},
   "source": [
    "I've never really liked with the [Monty Hall problem](https://en.wikipedia.org/wiki/Monty_Hall_problem). The soution is counterintuative and my brain kind of breaks when I try to wrap my head around the conditional probabilities. In situations like this it can be beneficial to look at the problem empirically and estimate the probabilities of the outcomes in the event space in code. So, let's play the game ourselves and see what happens!"
   ]
  },
  {
   "cell_type": "markdown",
   "metadata": {},
   "source": [
    "We start by creating a model of the game to simulate one iteration, or one time playing the game. I've included print statements to describe what happens are every step."
   ]
  },
  {
   "cell_type": "code",
   "execution_count": 1,
   "metadata": {},
   "outputs": [],
   "source": [
    "import random"
   ]
  },
  {
   "cell_type": "code",
   "execution_count": 2,
   "metadata": {},
   "outputs": [
    {
     "name": "stdout",
     "output_type": "stream",
     "text": [
      "Game begins. (The car is behind door 1).\n",
      "Player chooses door 3.\n",
      "Monty opens door 2 to reveal a goat.\n",
      "Player switches to door 1.\n",
      "Monty opens door 1 to reveal the car.\n",
      "Player wins!\n"
     ]
    }
   ],
   "source": [
    "# game setup\n",
    "NUM_DOORS = 3\n",
    "assert NUM_DOORS > 2, 'not enough doors'\n",
    "random.seed()\n",
    "winning_door = random.randint(1, NUM_DOORS) # randomly select the winning door\n",
    "print(f'Game begins. (The car is behind door {winning_door}).')\n",
    "\n",
    "# player chooses one of the doors\n",
    "player_door = random.randint(1, NUM_DOORS)\n",
    "print(f'Player chooses door {player_door}.')\n",
    "\n",
    "# Monty opens a different door to reveal a goat\n",
    "while(True):\n",
    "    goat_door = random.randint(1, NUM_DOORS)\n",
    "    if(goat_door != winning_door and goat_door != player_door):\n",
    "        break\n",
    "print(f'Monty opens door {goat_door} to reveal a goat.')\n",
    "\n",
    "# player chooses another door, if they want to\n",
    "switch = random.choice([False, True])\n",
    "if(switch):\n",
    "    while(True):\n",
    "        new_door = random.randint(1, NUM_DOORS)\n",
    "        if(new_door != player_door and new_door != goat_door):\n",
    "            break\n",
    "    player_door = new_door\n",
    "    print(f'Player switches to door {player_door}.')\n",
    "else:\n",
    "    print(f'Player still chooses door {player_door}.')\n",
    "\n",
    "# determine the outcome\n",
    "print(f'Monty opens door {winning_door} to reveal the car.')\n",
    "if player_door == winning_door:\n",
    "    print('Player wins!')\n",
    "else:\n",
    "    print('Player loses.')"
   ]
  },
  {
   "cell_type": "markdown",
   "metadata": {},
   "source": [
    "At this point we have a working system that can play the game once. After testing it thoroughly to verify that it implements the behaviour described in the problem, let's turn it into a function so we can re-use it more easily."
   ]
  },
  {
   "cell_type": "code",
   "execution_count": 3,
   "metadata": {},
   "outputs": [],
   "source": [
    "def monty_hall(switch, n=NUM_DOORS):\n",
    "    assert n > 2, 'not enough doors'\n",
    "\n",
    "    # game setup\n",
    "    winning_door = random.randint(1, n) # randomly select the winning door\n",
    "    print(f'Game begins. (The car is behind door {winning_door}).')\n",
    "\n",
    "    # player chooses one of the doors\n",
    "    player_door = random.randint(1, n)\n",
    "    print(f'Player chooses door {player_door}.')\n",
    "\n",
    "    # Monty opens a different door to reveal a goat\n",
    "    while(True):\n",
    "        goat_door = random.randint(1, n)\n",
    "        if(goat_door != winning_door and goat_door != player_door):\n",
    "            break\n",
    "    print(f'Monty opens door {goat_door} to reveal a goat.')\n",
    "\n",
    "    # player chooses another door, if they want to\n",
    "    if(switch):\n",
    "        while(True):\n",
    "            new_door = random.randint(1, n)\n",
    "            if(new_door != player_door and new_door != goat_door):\n",
    "                break\n",
    "        player_door = new_door\n",
    "        print(f'Player switches to door {player_door}.')\n",
    "    else:\n",
    "        print(f'Player still chooses door {player_door}.')\n",
    "\n",
    "    # determine the outcome\n",
    "    print(f'Monty opens door {winning_door} to reveal the car.')\n",
    "    if player_door == winning_door:\n",
    "        print('Player wins!')\n",
    "    else:\n",
    "        print('Player loses.')"
   ]
  },
  {
   "cell_type": "markdown",
   "metadata": {},
   "source": [
    "We can call our function with a randomized strategy like this:"
   ]
  },
  {
   "cell_type": "code",
   "execution_count": 4,
   "metadata": {},
   "outputs": [
    {
     "name": "stdout",
     "output_type": "stream",
     "text": [
      "Game begins. (The car is behind door 2).\n",
      "Player chooses door 2.\n",
      "Monty opens door 3 to reveal a goat.\n",
      "Player still chooses door 2.\n",
      "Monty opens door 2 to reveal the car.\n",
      "Player wins!\n"
     ]
    }
   ],
   "source": [
    "monty_hall(random.choice([False, True]))"
   ]
  },
  {
   "cell_type": "markdown",
   "metadata": {},
   "source": [
    "Now lets clean it up a bit and remove the print statements so it runs quietly."
   ]
  },
  {
   "cell_type": "code",
   "execution_count": 5,
   "metadata": {},
   "outputs": [],
   "source": [
    "def monty_hall(switch, n=NUM_DOORS):\n",
    "    assert n > 2, 'not enough doors'\n",
    "    winning_door = random.randint(1, n) # randomly select the winning door\n",
    "\n",
    "    # player chooses one of the doors\n",
    "    player_door = random.randint(1, n)\n",
    "\n",
    "    # Monty opens a different door to reveal a goat\n",
    "    while(True):\n",
    "        goat_door = random.randint(1, n)\n",
    "        if(goat_door != winning_door and goat_door != player_door):\n",
    "            break\n",
    "\n",
    "    # player chooses another door, if they want to\n",
    "    if(switch):\n",
    "        while(True):\n",
    "            new_door = random.randint(1, n)\n",
    "            if(new_door != player_door and new_door != goat_door):\n",
    "                break\n",
    "        player_door = new_door\n",
    "\n",
    "    # determine the outcome\n",
    "    return (player_door == winning_door)"
   ]
  },
  {
   "cell_type": "code",
   "execution_count": 6,
   "metadata": {},
   "outputs": [
    {
     "data": {
      "text/plain": [
       "False"
      ]
     },
     "execution_count": 6,
     "metadata": {},
     "output_type": "execute_result"
    }
   ],
   "source": [
    "monty_hall(random.choice([False, True]))"
   ]
  },
  {
   "cell_type": "markdown",
   "metadata": {},
   "source": [
    "Now that we have create a model for the problem, we can estimate the probabilites with simulation. We run the model repeatedly and measure the frequency of each outcome over many iterations of the game. These frequencies represent our probabilites!\n",
    "\n",
    "It looks like the probability of winning is about 0.5 when the player chooses to switch or stay with equal probability."
   ]
  },
  {
   "cell_type": "code",
   "execution_count": 7,
   "metadata": {},
   "outputs": [
    {
     "data": {
      "text/plain": [
       "0.4945"
      ]
     },
     "execution_count": 7,
     "metadata": {},
     "output_type": "execute_result"
    }
   ],
   "source": [
    "N = 10000\n",
    "results = []\n",
    "for _ in range(N):\n",
    "    results.append(monty_hall(random.choice([False, True])))\n",
    "sum(results)/N"
   ]
  },
  {
   "cell_type": "markdown",
   "metadata": {},
   "source": [
    "But when the player always sticks to their original guess, their win rate drops to about 0.33."
   ]
  },
  {
   "cell_type": "code",
   "execution_count": 8,
   "metadata": {},
   "outputs": [
    {
     "data": {
      "text/plain": [
       "0.3347"
      ]
     },
     "execution_count": 8,
     "metadata": {},
     "output_type": "execute_result"
    }
   ],
   "source": [
    "results = []\n",
    "for _ in range(N):\n",
    "    results.append(monty_hall(False))\n",
    "sum(results)/N"
   ]
  },
  {
   "cell_type": "markdown",
   "metadata": {},
   "source": [
    "And if the player always changes their guess, their win rate increases to about 0.67."
   ]
  },
  {
   "cell_type": "code",
   "execution_count": 9,
   "metadata": {},
   "outputs": [
    {
     "data": {
      "text/plain": [
       "0.6625"
      ]
     },
     "execution_count": 9,
     "metadata": {},
     "output_type": "execute_result"
    }
   ],
   "source": [
    "results = []\n",
    "for _ in range(N):\n",
    "    results.append(monty_hall(True))\n",
    "sum(results)/N"
   ]
  },
  {
   "cell_type": "markdown",
   "metadata": {},
   "source": [
    "We can change our loop to a list comprehension to make it python-y. (I'm hoping this will seem more readable to me after I get more practice with list comprehensions!)"
   ]
  },
  {
   "cell_type": "code",
   "execution_count": 10,
   "metadata": {},
   "outputs": [
    {
     "data": {
      "text/plain": [
       "0.6674"
      ]
     },
     "execution_count": 10,
     "metadata": {},
     "output_type": "execute_result"
    }
   ],
   "source": [
    "results = [monty_hall(True) for _ in range(N)]\n",
    "sum(results)/N"
   ]
  },
  {
   "cell_type": "markdown",
   "metadata": {},
   "source": [
    "And for conciseness, lets eliminate the results variable and run each simulation as a single expression."
   ]
  },
  {
   "cell_type": "code",
   "execution_count": 11,
   "metadata": {},
   "outputs": [
    {
     "data": {
      "text/plain": [
       "0.6638"
      ]
     },
     "execution_count": 11,
     "metadata": {},
     "output_type": "execute_result"
    }
   ],
   "source": [
    "sum([monty_hall(True) for _ in range(N)])/N"
   ]
  },
  {
   "cell_type": "markdown",
   "metadata": {},
   "source": [
    "Now with our model complete, we can easily simulate the Monty Hall problem with different parameters. Let's see what increasing the number of doors does:"
   ]
  },
  {
   "cell_type": "code",
   "execution_count": 12,
   "metadata": {},
   "outputs": [
    {
     "name": "stdout",
     "output_type": "stream",
     "text": [
      "3, False: 0.3334\n",
      "3, True: 0.6647\n",
      "4, False: 0.2464\n",
      "4, True: 0.3736\n",
      "5, False: 0.201\n",
      "5, True: 0.27\n",
      "6, False: 0.163\n",
      "6, True: 0.2104\n",
      "7, False: 0.1472\n",
      "7, True: 0.1691\n",
      "8, False: 0.1285\n",
      "8, True: 0.1499\n",
      "9, False: 0.1117\n",
      "9, True: 0.1266\n",
      "10, False: 0.0998\n",
      "10, True: 0.1105\n"
     ]
    }
   ],
   "source": [
    "for doors in range(3, 10+1):\n",
    "    for strategy in [False, True]:\n",
    "        print(f'{doors}, {strategy}: {sum([monty_hall(strategy, doors) for _ in range(N)])/N}')"
   ]
  },
  {
   "cell_type": "markdown",
   "metadata": {},
   "source": [
    "Hmmm, it looks like no matter how many doors there are, it is always better to change your guess. See how easy it is to estimate this programatically!"
   ]
  }
 ],
 "metadata": {
  "kernelspec": {
   "display_name": "Python 3",
   "language": "python",
   "name": "python3"
  },
  "language_info": {
   "codemirror_mode": {
    "name": "ipython",
    "version": 3
   },
   "file_extension": ".py",
   "mimetype": "text/x-python",
   "name": "python",
   "nbconvert_exporter": "python",
   "pygments_lexer": "ipython3",
   "version": "3.7.4"
  }
 },
 "nbformat": 4,
 "nbformat_minor": 2
}
