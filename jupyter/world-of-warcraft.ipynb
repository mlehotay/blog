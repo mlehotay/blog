{
 "cells": [
  {
   "cell_type": "markdown",
   "metadata": {},
   "source": [
    "Title: Analysis of World of Warcraft PvP Leaderboards\n",
    "Date: 2020-02-09 17:40\n",
    "Modified: 2020-02-22 18:57\n",
    "Category: Data Science\n",
    "Tags: data-analysis, visualization, SQL\n",
    "Slug: world-of-warcraft\n",
    "Status: draft"
   ]
  },
  {
   "cell_type": "markdown",
   "metadata": {},
   "source": [
    "---\n",
    "**Don't forget to check final version against [project 1 rubric](https://git.generalassemb.ly/DSI-TOR-6/projects/tree/master/project_1#rubric) and [report template](https://git.generalassemb.ly/DSI-TOR-6/projects/blob/master/project_1/project_1.ipynb)**\n",
    "\n",
    "If you combine your **problem statement, executive summary, data dictionary, and conclusions/recommendations**, you have an amazing README.md file that quickly aligns your audience to the contents of your project. Don't forget to cite your \n",
    "**data sources**!\n",
    "\n",
    "Some recommendations on plotting:\n",
    " * Plots have titles\n",
    " * Plots have axis labels\n",
    " * Plots have appropriate tick labels\n",
    " * All text is legible in a plot\n",
    " * Plots demonstrate meaningful and valid relationships\n",
    " * Plots are interpreted to aid understanding\n",
    "\n",
    "---------"
   ]
  },
  {
   "cell_type": "markdown",
   "metadata": {},
   "source": [
    "### Contents\n",
    "\n",
    "#### Introduction\n",
    "\n",
    "    **problem statement**\n",
    "    **executive summary**\n",
    "    \n",
    "#### data acquisition\n",
    "\n",
    "    connect to db, list tables\n",
    "    SQL query: battlegrounds & players\n",
    "    **data dictionary**\n",
    "    **data sources**\n",
    "    \n",
    "#### measures of best player\n",
    "\n",
    "    rating\n",
    "    rank\n",
    "    win ratio    \n",
    "\n",
    "    rating vs rank\n",
    "    win ratio vs rank\n",
    "    num matches vs win ratio\n",
    "    wins vs num matches\n",
    "    ratings vs rank grouped by leaderboard\n",
    "\n",
    "#### histograms, populations    \n",
    "        \n",
    "    rank histogram\n",
    "    ilvl histogram\n",
    "    achievement histogram\n",
    "\n",
    "    player class bar chart\n",
    "    player class bar chart stacked factions\n",
    "\n",
    "    ratings histogram for all leaderboards\n",
    "    \n",
    "#### exploring correlations\n",
    "\n",
    "    pair plot\n",
    "    heat map\n",
    "\n",
    "    ilvl vs rank\n",
    "    ilvl vs rating\n",
    "    achievement vs rank\n",
    "    rating histogram\n",
    "    win ratio bar chart by faction\n",
    "\n",
    "#### Groupings\n",
    "\n",
    "    ilvl vs rank grouped by leaderboard\n",
    "    ilvl vs rank grouped by player class\n",
    "    win ratio vs rank grouped by player class\n",
    "    win ratio vs rank grouped by faction\n",
    "\n",
    "    mean rating bar chart by class\n",
    "    mean rank by player details\n",
    "\n",
    "    mean rank bar chart by class for all leaderboards\n",
    "\n",
    "#### Descriptive and Inferential Statistics\n",
    "\n",
    "    measures of central tendency, spread, and shape/skewness\n",
    "    For each variable in your data, summarize the underlying distributions\n",
    "    Be sure to back up these summaries with statistics.\n",
    "    \n",
    "    plot and interpret boxplots\n",
    "\n",
    "#### summary, conclusions, etc\n",
    "\n",
    "    best class to play?\n",
    "    best PvP type to play? (2v2 3v3 battlegrounds)\n",
    "    recommendations for climbing leaderboards\n",
    "    does the hoarde receive preferential treatment from blizzard or not?"
   ]
  },
  {
   "cell_type": "markdown",
   "metadata": {},
   "source": [
    "I recently scraped the [PvP leaderboards](https://worldofwarcraft.com/en-us/game/pvp/leaderboards/) from the World of Warcraft website and wrote them out to a [SQLite database]({static}/attachments/wow.zip). Let's plot some charts of the data and see if anything interesting turns up."
   ]
  },
  {
   "cell_type": "markdown",
   "metadata": {},
   "source": [
    "There are three leaderboards: the 2v2 Arena, the 3v3 Arena, and the 10x10 Battleground. Each leaderboard lists the top 1000 players by rating. (I think these are Elo ratings.) Anyway, I saved the leaderboards to a SQL database as three separate tables. I also scraped a minimal amount of data from the profile pages of each of the characters on the leaderboards and saved the profile data to a fourth table."
   ]
  },
  {
   "cell_type": "code",
   "execution_count": null,
   "metadata": {},
   "outputs": [],
   "source": [
    "import sqlite3\n",
    "import altair as alt\n",
    "import pandas as pd"
   ]
  },
  {
   "cell_type": "code",
   "execution_count": null,
   "metadata": {},
   "outputs": [],
   "source": [
    "query = '''\n",
    "SELECT *\n",
    "FROM sqlite_master \n",
    "WHERE type='table'\n",
    "'''\n",
    "con = sqlite3.connect('data/wow.db')\n",
    "pd.read_sql(query, con)"
   ]
  },
  {
   "cell_type": "code",
   "execution_count": null,
   "metadata": {},
   "outputs": [],
   "source": [
    "query = '''\n",
    "    SELECT name, rank, rating, wins, losses, achievement, ilvl\n",
    "    FROM battlegrounds\n",
    "    LEFT JOIN players\n",
    "    ON battlegrounds.url = players.URL\n",
    "'''\n",
    "con = sqlite3.connect('data/wow.db')\n",
    "df = pd.read_sql(query, con)\n",
    "con.close()\n",
    "df"
   ]
  },
  {
   "cell_type": "code",
   "execution_count": null,
   "metadata": {},
   "outputs": [],
   "source": []
  },
  {
   "cell_type": "code",
   "execution_count": null,
   "metadata": {},
   "outputs": [],
   "source": [
    "df['num_matches'] =  df['wins'] + df['losses']\n",
    "df['win_ratio'] = df['wins'] / df['num_matches']"
   ]
  },
  {
   "cell_type": "code",
   "execution_count": null,
   "metadata": {},
   "outputs": [],
   "source": [
    "alt.Chart(df).mark_point().encode(x='rank', y='rating')"
   ]
  },
  {
   "cell_type": "code",
   "execution_count": null,
   "metadata": {},
   "outputs": [],
   "source": [
    "alt.Chart(df).mark_point().encode(x='rank', y='ilvl')"
   ]
  },
  {
   "cell_type": "code",
   "execution_count": null,
   "metadata": {},
   "outputs": [],
   "source": [
    "alt.Chart(df).mark_point().encode(alt.X('rating:Q', scale=alt.Scale(zero=False)), \n",
    "                                  alt.Y('ilvl:Q', scale=alt.Scale(zero=False)))"
   ]
  },
  {
   "cell_type": "code",
   "execution_count": null,
   "metadata": {},
   "outputs": [],
   "source": [
    "alt.Chart(df).mark_point().encode(x='rank', y='achievement')"
   ]
  },
  {
   "cell_type": "code",
   "execution_count": null,
   "metadata": {},
   "outputs": [],
   "source": [
    "alt.Chart(df).mark_point().encode(x='rank', y='win_ratio')"
   ]
  },
  {
   "cell_type": "code",
   "execution_count": null,
   "metadata": {},
   "outputs": [],
   "source": [
    "alt.Chart(df).mark_point().encode(alt.X('win_ratio:Q', scale=alt.Scale(zero=False)), y='num_matches')"
   ]
  },
  {
   "cell_type": "code",
   "execution_count": null,
   "metadata": {},
   "outputs": [],
   "source": [
    "alt.Chart(df).mark_point().encode(alt.Y('win_ratio:Q', scale=alt.Scale(zero=False)), x='num_matches')"
   ]
  },
  {
   "cell_type": "code",
   "execution_count": null,
   "metadata": {},
   "outputs": [],
   "source": [
    "alt.Chart(df).mark_point().encode(x='num_matches', y='wins')"
   ]
  },
  {
   "cell_type": "code",
   "execution_count": null,
   "metadata": {},
   "outputs": [],
   "source": [
    "alt.Chart(df).mark_bar().encode(alt.X(\"rating:Q\", bin=True), y='count()')"
   ]
  },
  {
   "cell_type": "code",
   "execution_count": null,
   "metadata": {},
   "outputs": [],
   "source": [
    "alt.Chart(df).mark_bar().encode(alt.X(\"rank:Q\", bin=True), y='count()')"
   ]
  },
  {
   "cell_type": "code",
   "execution_count": null,
   "metadata": {},
   "outputs": [],
   "source": [
    "alt.Chart(df).mark_bar().encode(alt.X(\"ilvl:Q\", bin=True), y='count()')"
   ]
  },
  {
   "cell_type": "code",
   "execution_count": null,
   "metadata": {},
   "outputs": [],
   "source": [
    "alt.Chart(df).mark_bar().encode(alt.X(\"achievement:Q\", bin=True), y='count()')"
   ]
  },
  {
   "cell_type": "code",
   "execution_count": null,
   "metadata": {},
   "outputs": [],
   "source": [
    "alt.Chart(df).mark_circle().encode(\n",
    "    alt.X(alt.repeat(\"column\"), type='quantitative', scale=alt.Scale(zero=False)),\n",
    "    alt.Y(alt.repeat(\"row\"), type='quantitative', scale=alt.Scale(zero=False))\n",
    ").properties(\n",
    "    width=100,\n",
    "    height=100\n",
    ").repeat(\n",
    "    row=['rank', 'rating', 'win_ratio', 'ilvl', 'achievement'],\n",
    "    column=['rank', 'rating', 'win_ratio', 'ilvl', 'achievement']\n",
    ")"
   ]
  },
  {
   "cell_type": "code",
   "execution_count": null,
   "metadata": {},
   "outputs": [],
   "source": [
    "query = '''\n",
    "    SELECT *, '2v2' as board\n",
    "    FROM arena_2v2\n",
    "    UNION ALL\n",
    "    SELECT *, '3v3' as board\n",
    "    FROM arena_3v3\n",
    "    UNION ALL\n",
    "    SELECT *, 'battlegrounds' as board\n",
    "    FROM battlegrounds\n",
    "'''\n",
    "con = sqlite3.connect('data/wow.db')\n",
    "df_boards = pd.read_sql(query, con)\n",
    "con.close()\n",
    "df_boards"
   ]
  },
  {
   "cell_type": "code",
   "execution_count": null,
   "metadata": {},
   "outputs": [],
   "source": [
    "alt.Chart(df_boards).mark_point().encode(x='rank', y='rating', color='board')"
   ]
  },
  {
   "cell_type": "code",
   "execution_count": null,
   "metadata": {},
   "outputs": [],
   "source": [
    "query = '''\n",
    "SELECT board, rank, rating, name, title, realm, class, details,\n",
    "    faction, wins, losses, achievement, ilvl, players.url\n",
    "FROM (\n",
    "    SELECT *, '2v2 arenas' as board\n",
    "    FROM arena_2v2\n",
    "    UNION\n",
    "    SELECT *, '3v3 arenas' as board\n",
    "    FROM arena_3v3\n",
    "    UNION\n",
    "    SELECT *, 'battlegrounds' as board\n",
    "    FROM battlegrounds\n",
    ") leaderboards\n",
    "JOIN players\n",
    "WHERE players.url = leaderboards.url\n",
    "'''\n",
    "con = sqlite3.connect('data/wow.db')\n",
    "df_boards = pd.read_sql(query, con)\n",
    "con.close()\n",
    "df_boards"
   ]
  },
  {
   "cell_type": "code",
   "execution_count": null,
   "metadata": {},
   "outputs": [],
   "source": [
    "alt.Chart(df_boards).mark_point().encode(x='rank', y='rating', color='board')"
   ]
  },
  {
   "cell_type": "code",
   "execution_count": null,
   "metadata": {},
   "outputs": [],
   "source": [
    "alt.Chart(df_boards).mark_point().encode(alt.X('rank:Q', scale=alt.Scale(zero=False)), \n",
    "                                  alt.Y('rating:Q', scale=alt.Scale(zero=False)),\n",
    "                                 color='board')"
   ]
  },
  {
   "cell_type": "code",
   "execution_count": null,
   "metadata": {},
   "outputs": [],
   "source": [
    "alt.Chart(df_boards).mark_point(opacity=0.75).encode(alt.X('rank:Q', scale=alt.Scale(zero=False)), \n",
    "                                  alt.Y('ilvl:Q', scale=alt.Scale(zero=False)),\n",
    "                                 color='board')"
   ]
  },
  {
   "cell_type": "code",
   "execution_count": null,
   "metadata": {},
   "outputs": [],
   "source": [
    "alt.Chart(df_boards).mark_point(opacity=0.75, clip=True).encode(alt.X('rank:Q', scale=alt.Scale(zero=False)), \n",
    "                                  alt.Y('ilvl:Q', scale=alt.Scale(domain=(420, 480))), color='board')"
   ]
  },
  {
   "cell_type": "code",
   "execution_count": null,
   "metadata": {},
   "outputs": [],
   "source": [
    "alt.Chart(df_boards).mark_point(opacity=0.75, clip=True).encode(alt.X('rank:Q', scale=alt.Scale(zero=False)), \n",
    "                                  alt.Y('ilvl:Q', scale=alt.Scale(domain=(420, 480))),\n",
    "                                 color='class')"
   ]
  },
  {
   "cell_type": "code",
   "execution_count": null,
   "metadata": {},
   "outputs": [],
   "source": [
    "df_boards['num_matches'] =  df_boards['wins'] + df_boards['losses']\n",
    "df_boards['win_ratio'] = df_boards['wins'] / df_boards['num_matches']"
   ]
  },
  {
   "cell_type": "code",
   "execution_count": null,
   "metadata": {},
   "outputs": [],
   "source": [
    "alt.Chart(df_boards).mark_circle().encode(alt.X('rank:Q', scale=alt.Scale(zero=False)), \n",
    "                                  alt.Y('win_ratio:Q', scale=alt.Scale(zero=False)), color='class')"
   ]
  },
  {
   "cell_type": "code",
   "execution_count": null,
   "metadata": {},
   "outputs": [],
   "source": [
    "alt.Chart(df_boards).mark_circle().encode(alt.X('rank:Q', scale=alt.Scale(zero=False)), \n",
    "                                  alt.Y('win_ratio:Q', scale=alt.Scale(zero=False)),\n",
    "                                 color='faction')"
   ]
  },
  {
   "cell_type": "code",
   "execution_count": null,
   "metadata": {},
   "outputs": [],
   "source": [
    "alt.Chart(df_boards).mark_bar().encode(x='class', y='count()')"
   ]
  },
  {
   "cell_type": "code",
   "execution_count": null,
   "metadata": {},
   "outputs": [],
   "source": [
    "alt.Chart(df_boards).mark_bar().encode(\n",
    "    x='class',\n",
    "    y='count()',\n",
    "    color='faction'\n",
    ")"
   ]
  },
  {
   "cell_type": "code",
   "execution_count": null,
   "metadata": {},
   "outputs": [],
   "source": [
    "alt.Chart(df_boards).mark_bar().encode(\n",
    "    x='faction',\n",
    "    y='win_ratio',\n",
    ")"
   ]
  },
  {
   "cell_type": "code",
   "execution_count": null,
   "metadata": {},
   "outputs": [],
   "source": [
    "bar = alt.Chart(df_boards).mark_bar().encode(\n",
    "    x='class:O',\n",
    "    y='mean(rating):Q'\n",
    ")\n",
    "rule = alt.Chart(df_boards).mark_rule(color='red').encode(\n",
    "    y='mean(rating):Q'\n",
    ")\n",
    "(bar + rule).properties(width=600)\n",
    "\n"
   ]
  },
  {
   "cell_type": "code",
   "execution_count": null,
   "metadata": {},
   "outputs": [],
   "source": [
    "bar = alt.Chart(df_boards).mark_bar().encode(\n",
    "    alt.Y('mean(rating)', scale=alt.Scale(zero=False)),\n",
    "    x='class'\n",
    ")\n",
    "rule = alt.Chart(df_boards).mark_rule(color='red').encode(\n",
    "    y='mean(rating)'\n",
    ")\n",
    "(bar + rule).properties(width=500)"
   ]
  },
  {
   "cell_type": "code",
   "execution_count": null,
   "metadata": {},
   "outputs": [],
   "source": [
    "df_boards['rank2'] = 1000 - df_boards['rank']"
   ]
  },
  {
   "cell_type": "code",
   "execution_count": null,
   "metadata": {},
   "outputs": [],
   "source": [
    "alt.Chart(df_boards).mark_bar().encode(\n",
    "    alt.Y('mean(rank2)', scale=alt.Scale(zero=False)),\n",
    "    x='class',\n",
    "    column='board'\n",
    ")"
   ]
  },
  {
   "cell_type": "code",
   "execution_count": null,
   "metadata": {},
   "outputs": [],
   "source": [
    "alt.Chart(df_boards).mark_bar().encode(\n",
    "    alt.X('class'),\n",
    "    alt.Y('mean(rank2)', scale=alt.Scale(zero=False)),\n",
    "    alt.Color('board'),\n",
    "    alt.Column('board')\n",
    ")"
   ]
  },
  {
   "cell_type": "code",
   "execution_count": null,
   "metadata": {
    "scrolled": true
   },
   "outputs": [],
   "source": [
    "bar = alt.Chart(df_boards).mark_bar().encode(\n",
    "    alt.X('mean(rank2)', scale=alt.Scale(zero=False)),\n",
    "    alt.Y('details', sort='-x'),\n",
    ")\n",
    "rule = alt.Chart(df_boards).mark_rule(color='red').encode(\n",
    "    x='mean(rank2)'\n",
    ")\n",
    "(bar + rule)"
   ]
  },
  {
   "cell_type": "code",
   "execution_count": null,
   "metadata": {},
   "outputs": [],
   "source": [
    "alt.Chart(df_boards).transform_fold(\n",
    "    ['2v2 arenas', '3v3 arenas', 'battlegrounds'],\n",
    "    as_=['Leaderboard', '# Characters']\n",
    ").mark_area(\n",
    "    opacity=0.5,\n",
    "    interpolate='step'\n",
    ").encode(\n",
    "    alt.X('rating:Q', bin=alt.Bin(maxbins=100)),\n",
    "    alt.Y('count()', stack=None),\n",
    "    alt.Color('board:N')\n",
    ")"
   ]
  },
  {
   "cell_type": "code",
   "execution_count": null,
   "metadata": {},
   "outputs": [],
   "source": []
  }
 ],
 "metadata": {
  "kernelspec": {
   "display_name": "Python 3",
   "language": "python",
   "name": "python3"
  },
  "language_info": {
   "codemirror_mode": {
    "name": "ipython",
    "version": 3
   },
   "file_extension": ".py",
   "mimetype": "text/x-python",
   "name": "python",
   "nbconvert_exporter": "python",
   "pygments_lexer": "ipython3",
   "version": "3.7.4"
  }
 },
 "nbformat": 4,
 "nbformat_minor": 2
}
